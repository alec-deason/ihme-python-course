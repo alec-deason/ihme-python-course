{
 "cells": [
  {
   "cell_type": "markdown",
   "metadata": {},
   "source": [
    "# Quick Demos of Statistics and Machine Learning in Python"
   ]
  },
  {
   "cell_type": "code",
   "execution_count": 1,
   "metadata": {
    "collapsed": true
   },
   "outputs": [],
   "source": [
    "import numpy as np\n",
    "import pandas as pd\n",
    "import seaborn as sns\n",
    "import matplotlib.pyplot as plt\n",
    "\n",
    "pd.options.display.max_rows = 10\n",
    "%matplotlib inline"
   ]
  },
  {
   "cell_type": "markdown",
   "metadata": {
    "slideshow": {
     "slide_type": "slide"
    }
   },
   "source": [
    "## Dealing with categorical data"
   ]
  },
  {
   "cell_type": "code",
   "execution_count": null,
   "metadata": {
    "collapsed": true
   },
   "outputs": [],
   "source": []
  },
  {
   "cell_type": "code",
   "execution_count": null,
   "metadata": {
    "collapsed": true
   },
   "outputs": [],
   "source": []
  },
  {
   "cell_type": "markdown",
   "metadata": {
    "slideshow": {
     "slide_type": "subslide"
    }
   },
   "source": [
    "Categoricals can go inside of Series or DataFrames just like any other column. The have a\n",
    "a special `.cat` namespace."
   ]
  },
  {
   "cell_type": "code",
   "execution_count": null,
   "metadata": {
    "collapsed": true
   },
   "outputs": [],
   "source": []
  },
  {
   "cell_type": "code",
   "execution_count": null,
   "metadata": {
    "collapsed": true
   },
   "outputs": [],
   "source": []
  },
  {
   "cell_type": "markdown",
   "metadata": {
    "slideshow": {
     "slide_type": "slide"
    }
   },
   "source": [
    "### Dummy variables"
   ]
  },
  {
   "cell_type": "code",
   "execution_count": null,
   "metadata": {
    "collapsed": true
   },
   "outputs": [],
   "source": []
  },
  {
   "cell_type": "code",
   "execution_count": null,
   "metadata": {
    "collapsed": true
   },
   "outputs": [],
   "source": []
  },
  {
   "cell_type": "markdown",
   "metadata": {
    "slideshow": {
     "slide_type": "slide"
    }
   },
   "source": [
    "# Statsmodels"
   ]
  },
  {
   "cell_type": "markdown",
   "metadata": {},
   "source": [
    "Brief primer: you give a **estimator** (OLS, WLS, GLM) a **formula** and **dataset**. You then fit that model."
   ]
  },
  {
   "cell_type": "code",
   "execution_count": 10,
   "metadata": {
    "collapsed": false
   },
   "outputs": [],
   "source": [
    "import statsmodels.api as sm"
   ]
  },
  {
   "cell_type": "markdown",
   "metadata": {},
   "source": [
    "We've got some longintudinal data (repeated measures of the same individual on children with HIV). \n",
    "\n",
    "There are two treatment arms (ARV vs control) represented by `treatment`, and administration of the treatment is indicated by `arv`."
   ]
  },
  {
   "cell_type": "code",
   "execution_count": 11,
   "metadata": {
    "collapsed": false
   },
   "outputs": [
    {
     "data": {
      "text/html": [
       "<div>\n",
       "<table border=\"1\" class=\"dataframe\">\n",
       "  <thead>\n",
       "    <tr style=\"text-align: right;\">\n",
       "      <th></th>\n",
       "      <th></th>\n",
       "      <th>VDATE</th>\n",
       "      <th>CD4PCT</th>\n",
       "      <th>arv</th>\n",
       "      <th>treatmnt</th>\n",
       "      <th>CD4CNT</th>\n",
       "      <th>baseage</th>\n",
       "    </tr>\n",
       "    <tr>\n",
       "      <th>newpid</th>\n",
       "      <th>VISIT</th>\n",
       "      <th></th>\n",
       "      <th></th>\n",
       "      <th></th>\n",
       "      <th></th>\n",
       "      <th></th>\n",
       "      <th></th>\n",
       "    </tr>\n",
       "  </thead>\n",
       "  <tbody>\n",
       "    <tr>\n",
       "      <th rowspan=\"5\" valign=\"top\">1</th>\n",
       "      <th>1</th>\n",
       "      <td>1988-06-29</td>\n",
       "      <td>18.0</td>\n",
       "      <td>0.0</td>\n",
       "      <td>1</td>\n",
       "      <td>323.0</td>\n",
       "      <td>3.91</td>\n",
       "    </tr>\n",
       "    <tr>\n",
       "      <th>4</th>\n",
       "      <td>1989-01-19</td>\n",
       "      <td>37.0</td>\n",
       "      <td>0.0</td>\n",
       "      <td>1</td>\n",
       "      <td>610.0</td>\n",
       "      <td>3.91</td>\n",
       "    </tr>\n",
       "    <tr>\n",
       "      <th>7</th>\n",
       "      <td>1989-04-13</td>\n",
       "      <td>13.0</td>\n",
       "      <td>0.0</td>\n",
       "      <td>1</td>\n",
       "      <td>324.0</td>\n",
       "      <td>3.91</td>\n",
       "    </tr>\n",
       "    <tr>\n",
       "      <th>13</th>\n",
       "      <td>1989-11-30</td>\n",
       "      <td>13.0</td>\n",
       "      <td>0.0</td>\n",
       "      <td>1</td>\n",
       "      <td>626.0</td>\n",
       "      <td>3.91</td>\n",
       "    </tr>\n",
       "    <tr>\n",
       "      <th>19</th>\n",
       "      <td>1990-06-07</td>\n",
       "      <td>12.0</td>\n",
       "      <td>1.0</td>\n",
       "      <td>1</td>\n",
       "      <td>220.0</td>\n",
       "      <td>3.91</td>\n",
       "    </tr>\n",
       "  </tbody>\n",
       "</table>\n",
       "</div>"
      ],
      "text/plain": [
       "                  VDATE  CD4PCT  arv  treatmnt  CD4CNT  baseage\n",
       "newpid VISIT                                                   \n",
       "1      1     1988-06-29    18.0  0.0         1   323.0     3.91\n",
       "       4     1989-01-19    37.0  0.0         1   610.0     3.91\n",
       "       7     1989-04-13    13.0  0.0         1   324.0     3.91\n",
       "       13    1989-11-30    13.0  0.0         1   626.0     3.91\n",
       "       19    1990-06-07    12.0  1.0         1   220.0     3.91"
      ]
     },
     "execution_count": 11,
     "metadata": {},
     "output_type": "execute_result"
    }
   ],
   "source": [
    "df = pd.read_csv('data/cd4.csv', parse_dates=['VDATE'], index_col=['newpid', 'VISIT'])\n",
    "df = df.dropna()  # estimator can't handle NaNs so ignore for now.\n",
    "df.head()"
   ]
  },
  {
   "cell_type": "markdown",
   "metadata": {},
   "source": [
    "Some basic statistics:"
   ]
  },
  {
   "cell_type": "code",
   "execution_count": null,
   "metadata": {
    "collapsed": true
   },
   "outputs": [],
   "source": []
  },
  {
   "cell_type": "code",
   "execution_count": null,
   "metadata": {
    "collapsed": true
   },
   "outputs": [],
   "source": []
  },
  {
   "cell_type": "markdown",
   "metadata": {},
   "source": [
    "### Linear regression"
   ]
  },
  {
   "cell_type": "code",
   "execution_count": null,
   "metadata": {
    "collapsed": true
   },
   "outputs": [],
   "source": []
  },
  {
   "cell_type": "code",
   "execution_count": null,
   "metadata": {
    "collapsed": true
   },
   "outputs": [],
   "source": []
  },
  {
   "cell_type": "markdown",
   "metadata": {
    "slideshow": {
     "slide_type": "subslide"
    }
   },
   "source": [
    "### Mixed effects models"
   ]
  },
  {
   "cell_type": "code",
   "execution_count": null,
   "metadata": {
    "collapsed": true
   },
   "outputs": [],
   "source": []
  },
  {
   "cell_type": "code",
   "execution_count": null,
   "metadata": {
    "collapsed": true
   },
   "outputs": [],
   "source": []
  },
  {
   "cell_type": "markdown",
   "metadata": {
    "collapsed": true,
    "slideshow": {
     "slide_type": "slide"
    }
   },
   "source": [
    "# Scikit-Learn\n",
    "\n",
    "### Gigantic library of many different kinds of ML and Statistical models"
   ]
  },
  {
   "cell_type": "markdown",
   "metadata": {
    "slideshow": {
     "slide_type": "subslide"
    }
   },
   "source": [
    "#### [Geospatial SVM example](http://scikit-learn.org/stable/auto_examples/applications/plot_species_distribution_modeling.html)"
   ]
  },
  {
   "cell_type": "code",
   "execution_count": 20,
   "metadata": {
    "collapsed": false
   },
   "outputs": [
    {
     "name": "stdout",
     "output_type": "stream",
     "text": [
      "Automatically created module for IPython interactive environment\n",
      "________________________________________________________________________________\n",
      "Modeling distribution of species 'bradypus variegatus'\n",
      " - fit OneClassSVM ... done.\n",
      " - plot coastlines from coverage\n",
      " - predict species distribution\n",
      "\n",
      " Area under the ROC curve : 0.868380\n",
      "________________________________________________________________________________\n",
      "Modeling distribution of species 'microryzomys minutus'\n",
      " - fit OneClassSVM ... done.\n",
      " - plot coastlines from coverage\n",
      " - predict species distribution\n",
      "\n",
      " Area under the ROC curve : 0.993919\n",
      "\n",
      "time elapsed: 5.39s\n"
     ]
    },
    {
     "data": {
      "image/png": "[encoded data removed]",
      "text/plain": [
       "<matplotlib.figure.Figure at 0x1187c8860>"
      ]
     },
     "metadata": {},
     "output_type": "display_data"
    }
   ],
   "source": [
    "from time import time\n",
    "\n",
    "import numpy as np\n",
    "import matplotlib.pyplot as plt\n",
    "\n",
    "from sklearn.datasets.base import Bunch\n",
    "from sklearn.datasets import fetch_species_distributions\n",
    "from sklearn.datasets.species_distributions import construct_grids\n",
    "from sklearn import svm, metrics\n",
    "\n",
    "# if basemap is available, we'll use it.\n",
    "# otherwise, we'll improvise later...\n",
    "try:\n",
    "    from mpl_toolkits.basemap import Basemap\n",
    "    basemap = True\n",
    "except ImportError:\n",
    "    basemap = False\n",
    "\n",
    "print(__doc__)\n",
    "\n",
    "\n",
    "def create_species_bunch(species_name, train, test, coverages, xgrid, ygrid):\n",
    "    \"\"\"Create a bunch with information about a particular organism\n",
    "\n",
    "    This will use the test/train record arrays to extract the\n",
    "    data specific to the given species name.\n",
    "    \"\"\"\n",
    "    bunch = Bunch(name=' '.join(species_name.split(\"_\")[:2]))\n",
    "    species_name = species_name.encode('ascii')\n",
    "    points = dict(test=test, train=train)\n",
    "\n",
    "    for label, pts in points.items():\n",
    "        # choose points associated with the desired species\n",
    "        pts = pts[pts['species'] == species_name]\n",
    "        bunch['pts_%s' % label] = pts\n",
    "\n",
    "        # determine coverage values for each of the training & testing points\n",
    "        ix = np.searchsorted(xgrid, pts['dd long'])\n",
    "        iy = np.searchsorted(ygrid, pts['dd lat'])\n",
    "        bunch['cov_%s' % label] = coverages[:, -iy, ix].T\n",
    "\n",
    "    return bunch\n",
    "\n",
    "\n",
    "def plot_species_distribution(species=(\"bradypus_variegatus_0\",\n",
    "                                       \"microryzomys_minutus_0\")):\n",
    "    \"\"\"\n",
    "    Plot the species distribution.\n",
    "    \"\"\"\n",
    "    if len(species) > 2:\n",
    "        print(\"Note: when more than two species are provided,\"\n",
    "              \" only the first two will be used\")\n",
    "\n",
    "    t0 = time()\n",
    "\n",
    "    # Load the compressed data\n",
    "    data = fetch_species_distributions()\n",
    "\n",
    "    # Set up the data grid\n",
    "    xgrid, ygrid = construct_grids(data)\n",
    "\n",
    "    # The grid in x,y coordinates\n",
    "    X, Y = np.meshgrid(xgrid, ygrid[::-1])\n",
    "\n",
    "    # create a bunch for each species\n",
    "    BV_bunch = create_species_bunch(species[0],\n",
    "                                    data.train, data.test,\n",
    "                                    data.coverages, xgrid, ygrid)\n",
    "    MM_bunch = create_species_bunch(species[1],\n",
    "                                    data.train, data.test,\n",
    "                                    data.coverages, xgrid, ygrid)\n",
    "\n",
    "    # background points (grid coordinates) for evaluation\n",
    "    np.random.seed(13)\n",
    "    background_points = np.c_[np.random.randint(low=0, high=data.Ny,\n",
    "                                                size=10000),\n",
    "                              np.random.randint(low=0, high=data.Nx,\n",
    "                                                size=10000)].T\n",
    "\n",
    "    # We'll make use of the fact that coverages[6] has measurements at all\n",
    "    # land points.  This will help us decide between land and water.\n",
    "    land_reference = data.coverages[6]\n",
    "\n",
    "    # Fit, predict, and plot for each species.\n",
    "    for i, species in enumerate([BV_bunch, MM_bunch]):\n",
    "        print(\"_\" * 80)\n",
    "        print(\"Modeling distribution of species '%s'\" % species.name)\n",
    "\n",
    "        # Standardize features\n",
    "        mean = species.cov_train.mean(axis=0)\n",
    "        std = species.cov_train.std(axis=0)\n",
    "        train_cover_std = (species.cov_train - mean) / std\n",
    "\n",
    "        # Fit OneClassSVM\n",
    "        print(\" - fit OneClassSVM ... \", end='')\n",
    "        clf = svm.OneClassSVM(nu=0.1, kernel=\"rbf\", gamma=0.5)\n",
    "        clf.fit(train_cover_std)\n",
    "        print(\"done.\")\n",
    "\n",
    "        # Plot map of South America\n",
    "        plt.subplot(1, 2, i + 1)\n",
    "        if basemap:\n",
    "            print(\" - plot coastlines using basemap\")\n",
    "            m = Basemap(projection='cyl', llcrnrlat=Y.min(),\n",
    "                        urcrnrlat=Y.max(), llcrnrlon=X.min(),\n",
    "                        urcrnrlon=X.max(), resolution='c')\n",
    "            m.drawcoastlines()\n",
    "            m.drawcountries()\n",
    "        else:\n",
    "            print(\" - plot coastlines from coverage\")\n",
    "            plt.contour(X, Y, land_reference,\n",
    "                        levels=[-9999], colors=\"k\",\n",
    "                        linestyles=\"solid\")\n",
    "            plt.xticks([])\n",
    "            plt.yticks([])\n",
    "\n",
    "        print(\" - predict species distribution\")\n",
    "\n",
    "        # Predict species distribution using the training data\n",
    "        Z = np.ones((data.Ny, data.Nx), dtype=np.float64)\n",
    "\n",
    "        # We'll predict only for the land points.\n",
    "        idx = np.where(land_reference > -9999)\n",
    "        coverages_land = data.coverages[:, idx[0], idx[1]].T\n",
    "\n",
    "        pred = clf.decision_function((coverages_land - mean) / std)[:, 0]\n",
    "        Z *= pred.min()\n",
    "        Z[idx[0], idx[1]] = pred\n",
    "\n",
    "        levels = np.linspace(Z.min(), Z.max(), 25)\n",
    "        Z[land_reference == -9999] = -9999\n",
    "\n",
    "        # plot contours of the prediction\n",
    "        plt.contourf(X, Y, Z, levels=levels, cmap=plt.cm.Reds)\n",
    "        plt.colorbar(format='%.2f')\n",
    "\n",
    "        # scatter training/testing points\n",
    "        plt.scatter(species.pts_train['dd long'], species.pts_train['dd lat'],\n",
    "                    s=2 ** 2, c='black',\n",
    "                    marker='^', label='train')\n",
    "        plt.scatter(species.pts_test['dd long'], species.pts_test['dd lat'],\n",
    "                    s=2 ** 2, c='black',\n",
    "                    marker='x', label='test')\n",
    "        plt.legend()\n",
    "        plt.title(species.name)\n",
    "        plt.axis('equal')\n",
    "\n",
    "        # Compute AUC with regards to background points\n",
    "        pred_background = Z[background_points[0], background_points[1]]\n",
    "        pred_test = clf.decision_function((species.cov_test - mean)\n",
    "                                          / std)[:, 0]\n",
    "        scores = np.r_[pred_test, pred_background]\n",
    "        y = np.r_[np.ones(pred_test.shape), np.zeros(pred_background.shape)]\n",
    "        fpr, tpr, thresholds = metrics.roc_curve(y, scores)\n",
    "        roc_auc = metrics.auc(fpr, tpr)\n",
    "        plt.text(-35, -70, \"AUC: %.3f\" % roc_auc, ha=\"right\")\n",
    "        print(\"\\n Area under the ROC curve : %f\" % roc_auc)\n",
    "\n",
    "    print(\"\\ntime elapsed: %.2fs\" % (time() - t0))\n",
    "\n",
    "\n",
    "plot_species_distribution()\n",
    "plt.show()"
   ]
  },
  {
   "cell_type": "markdown",
   "metadata": {
    "slideshow": {
     "slide_type": "slide"
    }
   },
   "source": [
    "## [Tensorflow](https://www.tensorflow.org/)\n",
    "\n",
    "Google's latest ML library\n",
    "\n",
    "Also see [TF-Slim](https://github.com/tensorflow/tensorflow/tree/master/tensorflow/contrib/slim)"
   ]
  },
  {
   "cell_type": "code",
   "execution_count": 21,
   "metadata": {
    "collapsed": false,
    "slideshow": {
     "slide_type": "subslide"
    }
   },
   "outputs": [
    {
     "data": {
      "text/html": [
       "<iframe src=\"http://playground.tensorflow.org/\" height=500 width=1024>"
      ],
      "text/plain": [
       "<IPython.core.display.HTML object>"
      ]
     },
     "execution_count": 21,
     "metadata": {},
     "output_type": "execute_result"
    }
   ],
   "source": [
    "from IPython import display\n",
    "display.HTML('<iframe src=\"http://playground.tensorflow.org/\" height=500 width=1024>')"
   ]
  },
  {
   "cell_type": "markdown",
   "metadata": {
    "slideshow": {
     "slide_type": "slide"
    }
   },
   "source": [
    "Slide materials adapted from [Tom Augspurger](https://github.com/TomAugspurger/pydata-chi-h2t/blob/master/6-StatsAndML.ipynb)"
   ]
  }
 ],
 "metadata": {
  "anaconda-cloud": {},
  "kernelspec": {
   "display_name": "Python [default]",
   "language": "python",
   "name": "python3"
  },
  "language_info": {
   "codemirror_mode": {
    "name": "ipython",
    "version": 3
   },
   "file_extension": ".py",
   "mimetype": "text/x-python",
   "name": "python",
   "nbconvert_exporter": "python",
   "pygments_lexer": "ipython3",
   "version": "3.5.2"
  }
 },
 "nbformat": 4,
 "nbformat_minor": 0
}
