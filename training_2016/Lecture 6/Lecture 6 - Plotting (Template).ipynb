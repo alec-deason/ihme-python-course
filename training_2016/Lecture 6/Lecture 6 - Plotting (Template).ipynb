{
 "cells": [
  {
   "cell_type": "markdown",
   "metadata": {
    "slideshow": {
     "slide_type": "slide"
    }
   },
   "source": [
    "# Intro to Plotting"
   ]
  },
  {
   "cell_type": "markdown",
   "metadata": {
    "slideshow": {
     "slide_type": "slide"
    }
   },
   "source": [
    "### Sneak peak:"
   ]
  },
  {
   "cell_type": "code",
   "execution_count": 1,
   "metadata": {
    "collapsed": true
   },
   "outputs": [],
   "source": [
    "%matplotlib inline\n",
    "import pandas as pd\n",
    "import numpy as np\n",
    "import seaborn as sns\n",
    "import matplotlib.pyplot as plt\n",
    "\n",
    "pd.options.display.max_rows = 10\n",
    "sns.set(style='ticks', context='talk')\n",
    "plt.rcParams['figure.figsize'] = (12, 6)"
   ]
  },
  {
   "cell_type": "code",
   "execution_count": null,
   "metadata": {
    "collapsed": false,
    "slideshow": {
     "slide_type": "fragment"
    }
   },
   "outputs": [],
   "source": [
    "df = pd.read_csv('data/beer_subset.csv.gz', parse_dates=['time'], compression='gzip')\n",
    "review_cols = [c for c in df.columns if c[0:6] == 'review']\n",
    "df.head()"
   ]
  },
  {
   "cell_type": "code",
   "execution_count": null,
   "metadata": {
    "collapsed": false,
    "slideshow": {
     "slide_type": "fragment"
    }
   },
   "outputs": [],
   "source": [
    "fig, ax = plt.subplots(figsize=(5, 10))\n",
    "sns.countplot(hue='kind', y='stars', data=(df[review_cols]\n",
    "                                           .stack()\n",
    "                                           .rename_axis(['record', 'kind'])\n",
    "                                           .rename('stars')\n",
    "                                           .reset_index()),\n",
    "              ax=ax, order=np.arange(0, 5.5, .5))\n",
    "sns.despine()"
   ]
  },
  {
   "cell_type": "markdown",
   "metadata": {
    "slideshow": {
     "slide_type": "slide"
    }
   },
   "source": [
    "## Matplotlib\n",
    "\n",
    "- Tons of features\n",
    "- \"Low-level\" library"
   ]
  },
  {
   "cell_type": "markdown",
   "metadata": {
    "slideshow": {
     "slide_type": "subslide"
    }
   },
   "source": [
    "Check out [the tutorials](http://matplotlib.org/users/beginner.html)"
   ]
  },
  {
   "cell_type": "code",
   "execution_count": null,
   "metadata": {
    "collapsed": false,
    "scrolled": true
   },
   "outputs": [],
   "source": [
    "from IPython import display\n",
    "display.HTML('<iframe src=\"http://matplotlib.org/users/beginner.html\" height=500 width=1024>')"
   ]
  },
  {
   "cell_type": "code",
   "execution_count": null,
   "metadata": {
    "collapsed": true,
    "slideshow": {
     "slide_type": "subslide"
    }
   },
   "outputs": [],
   "source": [
    "%matplotlib inline\n",
    "import matplotlib.pyplot as plt"
   ]
  },
  {
   "cell_type": "code",
   "execution_count": null,
   "metadata": {
    "collapsed": true
   },
   "outputs": [],
   "source": []
  },
  {
   "cell_type": "code",
   "execution_count": null,
   "metadata": {
    "collapsed": true
   },
   "outputs": [],
   "source": []
  },
  {
   "cell_type": "markdown",
   "metadata": {
    "slideshow": {
     "slide_type": "fragment"
    }
   },
   "source": [
    "A single series is interpreted as y values, so x is just the index..."
   ]
  },
  {
   "cell_type": "code",
   "execution_count": null,
   "metadata": {
    "collapsed": true
   },
   "outputs": [],
   "source": []
  },
  {
   "cell_type": "code",
   "execution_count": null,
   "metadata": {
    "collapsed": true
   },
   "outputs": [],
   "source": []
  },
  {
   "cell_type": "markdown",
   "metadata": {
    "slideshow": {
     "slide_type": "fragment"
    }
   },
   "source": [
    "For every x, y pair of arguments, there is an optional third argument which is the format string that indicates the color and line type of the plot. "
   ]
  },
  {
   "cell_type": "code",
   "execution_count": null,
   "metadata": {
    "collapsed": true
   },
   "outputs": [],
   "source": []
  },
  {
   "cell_type": "code",
   "execution_count": null,
   "metadata": {
    "collapsed": true
   },
   "outputs": [],
   "source": []
  },
  {
   "cell_type": "markdown",
   "metadata": {
    "slideshow": {
     "slide_type": "fragment"
    }
   },
   "source": [
    "To work on plots in more detail, it's useful to store the \"axis\" object"
   ]
  },
  {
   "cell_type": "code",
   "execution_count": null,
   "metadata": {
    "collapsed": true
   },
   "outputs": [],
   "source": []
  },
  {
   "cell_type": "code",
   "execution_count": null,
   "metadata": {
    "collapsed": true
   },
   "outputs": [],
   "source": []
  },
  {
   "cell_type": "markdown",
   "metadata": {
    "slideshow": {
     "slide_type": "fragment"
    }
   },
   "source": [
    "Lots of `keyword` properties..."
   ]
  },
  {
   "cell_type": "code",
   "execution_count": null,
   "metadata": {
    "collapsed": true
   },
   "outputs": [],
   "source": []
  },
  {
   "cell_type": "code",
   "execution_count": null,
   "metadata": {
    "collapsed": true
   },
   "outputs": [],
   "source": []
  },
  {
   "cell_type": "markdown",
   "metadata": {
    "slideshow": {
     "slide_type": "subslide"
    }
   },
   "source": [
    "#### Overlaying plots"
   ]
  },
  {
   "cell_type": "code",
   "execution_count": null,
   "metadata": {
    "collapsed": true
   },
   "outputs": [],
   "source": []
  },
  {
   "cell_type": "code",
   "execution_count": null,
   "metadata": {
    "collapsed": true
   },
   "outputs": [],
   "source": []
  },
  {
   "cell_type": "markdown",
   "metadata": {
    "slideshow": {
     "slide_type": "subslide"
    }
   },
   "source": [
    "#### Multiple plots"
   ]
  },
  {
   "cell_type": "code",
   "execution_count": null,
   "metadata": {
    "collapsed": true
   },
   "outputs": [],
   "source": []
  },
  {
   "cell_type": "code",
   "execution_count": null,
   "metadata": {
    "collapsed": true
   },
   "outputs": [],
   "source": []
  },
  {
   "cell_type": "markdown",
   "metadata": {
    "slideshow": {
     "slide_type": "subslide"
    }
   },
   "source": [
    "#### Types of axes"
   ]
  },
  {
   "cell_type": "code",
   "execution_count": null,
   "metadata": {
    "collapsed": true
   },
   "outputs": [],
   "source": []
  },
  {
   "cell_type": "code",
   "execution_count": null,
   "metadata": {
    "collapsed": true
   },
   "outputs": [],
   "source": []
  },
  {
   "cell_type": "markdown",
   "metadata": {
    "slideshow": {
     "slide_type": "subslide"
    }
   },
   "source": [
    "The best way to learn is [the gallery](http://matplotlib.org/gallery.html)"
   ]
  },
  {
   "cell_type": "code",
   "execution_count": null,
   "metadata": {
    "collapsed": false
   },
   "outputs": [],
   "source": [
    "display.HTML('<iframe src=\"http://matplotlib.org/gallery.html\" height=500 width=1024>')"
   ]
  },
  {
   "cell_type": "markdown",
   "metadata": {
    "slideshow": {
     "slide_type": "subslide"
    }
   },
   "source": [
    "### A handful of examples"
   ]
  },
  {
   "cell_type": "markdown",
   "metadata": {
    "slideshow": {
     "slide_type": "fragment"
    }
   },
   "source": [
    "Scatter plots and \"bubble charts\""
   ]
  },
  {
   "cell_type": "code",
   "execution_count": null,
   "metadata": {
    "collapsed": false
   },
   "outputs": [],
   "source": [
    "n = 20\n",
    "x = np.random.normal(size=n)\n",
    "y = np.random.normal(size=n)\n",
    "c = np.random.uniform(size=n)\n",
    "s = np.random.randint(100, size=n)"
   ]
  },
  {
   "cell_type": "code",
   "execution_count": null,
   "metadata": {
    "collapsed": true
   },
   "outputs": [],
   "source": []
  },
  {
   "cell_type": "code",
   "execution_count": null,
   "metadata": {
    "collapsed": true
   },
   "outputs": [],
   "source": []
  },
  {
   "cell_type": "markdown",
   "metadata": {
    "slideshow": {
     "slide_type": "fragment"
    }
   },
   "source": [
    "#### Bar charts"
   ]
  },
  {
   "cell_type": "code",
   "execution_count": null,
   "metadata": {
    "collapsed": true
   },
   "outputs": [],
   "source": [
    "people = ['Annie', 'Brian', 'Chelsea', 'Derek', 'Elise']\n",
    "performance = 3 + 10 * np.random.rand(len(people))\n",
    "error = np.random.rand(len(people))"
   ]
  },
  {
   "cell_type": "code",
   "execution_count": null,
   "metadata": {
    "collapsed": true
   },
   "outputs": [],
   "source": []
  },
  {
   "cell_type": "code",
   "execution_count": null,
   "metadata": {
    "collapsed": true
   },
   "outputs": [],
   "source": []
  },
  {
   "cell_type": "markdown",
   "metadata": {
    "slideshow": {
     "slide_type": "slide"
    }
   },
   "source": [
    "# Plotting with Pandas"
   ]
  },
  {
   "cell_type": "markdown",
   "metadata": {
    "slideshow": {
     "slide_type": "fragment"
    }
   },
   "source": [
    "matplotlib is a relatively *low-level* plotting package, relative to others. It makes very few assumptions about what constitutes good layout (by design), but has a lot of flexiblility to allow the user to completely customize the look of the output."
   ]
  },
  {
   "cell_type": "markdown",
   "metadata": {
    "slideshow": {
     "slide_type": "fragment"
    }
   },
   "source": [
    "On the other hand, Pandas includes methods for DataFrame and Series objects that are relatively high-level, and that make reasonable assumptions about how the plot should look."
   ]
  },
  {
   "cell_type": "code",
   "execution_count": null,
   "metadata": {
    "collapsed": false,
    "slideshow": {
     "slide_type": "subslide"
    }
   },
   "outputs": [],
   "source": [
    "normals = pd.Series(np.random.normal(size=10))"
   ]
  },
  {
   "cell_type": "code",
   "execution_count": null,
   "metadata": {
    "collapsed": true
   },
   "outputs": [],
   "source": []
  },
  {
   "cell_type": "code",
   "execution_count": null,
   "metadata": {
    "collapsed": true
   },
   "outputs": [],
   "source": []
  },
  {
   "cell_type": "markdown",
   "metadata": {
    "slideshow": {
     "slide_type": "subslide"
    }
   },
   "source": [
    "Similarly, for a DataFrame:"
   ]
  },
  {
   "cell_type": "code",
   "execution_count": null,
   "metadata": {
    "collapsed": false,
    "slideshow": {
     "slide_type": "fragment"
    }
   },
   "outputs": [],
   "source": [
    "variables = pd.DataFrame({'normal': np.random.normal(size=100), \n",
    "                          'gamma': np.random.gamma(1, size=100), \n",
    "                          'poisson': np.random.poisson(size=100)})"
   ]
  },
  {
   "cell_type": "code",
   "execution_count": null,
   "metadata": {
    "collapsed": true
   },
   "outputs": [],
   "source": []
  },
  {
   "cell_type": "code",
   "execution_count": null,
   "metadata": {
    "collapsed": true
   },
   "outputs": [],
   "source": []
  },
  {
   "cell_type": "markdown",
   "metadata": {
    "slideshow": {
     "slide_type": "fragment"
    }
   },
   "source": [
    "All Pandas plotting commands return `matplotlib` `axis` objects:"
   ]
  },
  {
   "cell_type": "code",
   "execution_count": null,
   "metadata": {
    "collapsed": true
   },
   "outputs": [],
   "source": []
  },
  {
   "cell_type": "code",
   "execution_count": null,
   "metadata": {
    "collapsed": true
   },
   "outputs": [],
   "source": []
  },
  {
   "cell_type": "markdown",
   "metadata": {
    "slideshow": {
     "slide_type": "subslide"
    }
   },
   "source": [
    "As an illustration of the high-level nature of Pandas plots, we can split multiple series into subplots with a single argument for `plot`:"
   ]
  },
  {
   "cell_type": "code",
   "execution_count": null,
   "metadata": {
    "collapsed": true
   },
   "outputs": [],
   "source": []
  },
  {
   "cell_type": "code",
   "execution_count": null,
   "metadata": {
    "collapsed": true
   },
   "outputs": [],
   "source": []
  },
  {
   "cell_type": "markdown",
   "metadata": {
    "slideshow": {
     "slide_type": "subslide"
    }
   },
   "source": [
    "Or, we could use a secondary y-axis:"
   ]
  },
  {
   "cell_type": "markdown",
   "metadata": {
    "slideshow": {
     "slide_type": "fragment"
    }
   },
   "source": [
    "(Note that [\"friends don't let friends use two y-axes\"](https://kieranhealy.org/blog/archives/2016/01/16/two-y-axes/), but we're just showing some examples here...)"
   ]
  },
  {
   "cell_type": "code",
   "execution_count": null,
   "metadata": {
    "collapsed": true
   },
   "outputs": [],
   "source": []
  },
  {
   "cell_type": "code",
   "execution_count": null,
   "metadata": {
    "collapsed": true
   },
   "outputs": [],
   "source": []
  },
  {
   "cell_type": "markdown",
   "metadata": {
    "slideshow": {
     "slide_type": "subslide"
    }
   },
   "source": [
    "If we would like a little more control, we can use matplotlib's `subplots` function directly, and manually assign plots to its axes:"
   ]
  },
  {
   "cell_type": "code",
   "execution_count": null,
   "metadata": {
    "collapsed": true
   },
   "outputs": [],
   "source": []
  },
  {
   "cell_type": "code",
   "execution_count": null,
   "metadata": {
    "collapsed": true
   },
   "outputs": [],
   "source": []
  },
  {
   "cell_type": "markdown",
   "metadata": {
    "slideshow": {
     "slide_type": "subslide"
    }
   },
   "source": [
    "### Bar plots\n",
    "\n",
    "Bar plots are useful for displaying and comparing measurable quantities, such as counts or volumes. In Pandas, we just use the `plot` method with a `kind='bar'` argument.\n",
    "\n",
    "For this series of examples, let's load up the Titanic dataset:"
   ]
  },
  {
   "cell_type": "code",
   "execution_count": null,
   "metadata": {
    "collapsed": false,
    "slideshow": {
     "slide_type": "-"
    }
   },
   "outputs": [],
   "source": [
    "titanic = pd.read_excel(\"data/titanic.xls\", \"titanic\")\n",
    "titanic.head()"
   ]
  },
  {
   "cell_type": "code",
   "execution_count": null,
   "metadata": {
    "collapsed": true
   },
   "outputs": [],
   "source": []
  },
  {
   "cell_type": "code",
   "execution_count": null,
   "metadata": {
    "collapsed": true
   },
   "outputs": [],
   "source": []
  },
  {
   "cell_type": "markdown",
   "metadata": {
    "slideshow": {
     "slide_type": "fragment"
    }
   },
   "source": [
    "Or if we wanted to see survival _rate_ instead:"
   ]
  },
  {
   "cell_type": "code",
   "execution_count": null,
   "metadata": {
    "collapsed": true
   },
   "outputs": [],
   "source": []
  },
  {
   "cell_type": "code",
   "execution_count": null,
   "metadata": {
    "collapsed": true
   },
   "outputs": [],
   "source": []
  },
  {
   "cell_type": "markdown",
   "metadata": {
    "slideshow": {
     "slide_type": "subslide"
    }
   },
   "source": [
    "## Histograms\n",
    "\n",
    "Frequently it is useful to look at the *distribution* of data before you analyze it. Histograms are a sort of bar graph that displays relative frequencies of data values; hence, the y-axis is always some measure of frequency. This can either be raw counts of values or scaled proportions."
   ]
  },
  {
   "cell_type": "markdown",
   "metadata": {
    "slideshow": {
     "slide_type": "fragment"
    }
   },
   "source": [
    "For instance, fare distributions aboard the titanic:"
   ]
  },
  {
   "cell_type": "code",
   "execution_count": null,
   "metadata": {
    "collapsed": true
   },
   "outputs": [],
   "source": []
  },
  {
   "cell_type": "code",
   "execution_count": null,
   "metadata": {
    "collapsed": true
   },
   "outputs": [],
   "source": []
  },
  {
   "cell_type": "markdown",
   "metadata": {
    "slideshow": {
     "slide_type": "subslide"
    }
   },
   "source": [
    "### Boxplots\n",
    "\n",
    "A different way of visualizing the distribution of data is the boxplot, which is a display of common quantiles; these are typically the quartiles and the lower and upper 5 percent values."
   ]
  },
  {
   "cell_type": "code",
   "execution_count": null,
   "metadata": {
    "collapsed": true
   },
   "outputs": [],
   "source": []
  },
  {
   "cell_type": "code",
   "execution_count": null,
   "metadata": {
    "collapsed": true
   },
   "outputs": [],
   "source": []
  },
  {
   "cell_type": "markdown",
   "metadata": {
    "slideshow": {
     "slide_type": "fragment"
    }
   },
   "source": [
    "One way to add additional information to a boxplot is to overlay the actual data; this is generally most suitable with small- or moderate-sized data series."
   ]
  },
  {
   "cell_type": "code",
   "execution_count": null,
   "metadata": {
    "collapsed": true
   },
   "outputs": [],
   "source": []
  },
  {
   "cell_type": "code",
   "execution_count": null,
   "metadata": {
    "collapsed": true
   },
   "outputs": [],
   "source": []
  },
  {
   "cell_type": "markdown",
   "metadata": {
    "slideshow": {
     "slide_type": "subslide"
    }
   },
   "source": [
    "### Scatter plots"
   ]
  },
  {
   "cell_type": "code",
   "execution_count": null,
   "metadata": {
    "collapsed": false
   },
   "outputs": [],
   "source": [
    "df.head()"
   ]
  },
  {
   "cell_type": "code",
   "execution_count": null,
   "metadata": {
    "collapsed": true
   },
   "outputs": [],
   "source": []
  },
  {
   "cell_type": "code",
   "execution_count": null,
   "metadata": {
    "collapsed": true
   },
   "outputs": [],
   "source": []
  },
  {
   "cell_type": "code",
   "execution_count": null,
   "metadata": {
    "collapsed": false,
    "slideshow": {
     "slide_type": "subslide"
    }
   },
   "outputs": [],
   "source": [
    "jittered_df = df[review_cols] + (np.random.rand(*df[review_cols].shape) - 0.5)\n",
    "jittered_df.head()"
   ]
  },
  {
   "cell_type": "markdown",
   "metadata": {
    "slideshow": {
     "slide_type": "subslide"
    }
   },
   "source": [
    "### Lots more info on Pandas plotting in [the docs](http://pandas.pydata.org/pandas-docs/stable/visualization.html)"
   ]
  },
  {
   "cell_type": "markdown",
   "metadata": {
    "slideshow": {
     "slide_type": "slide"
    }
   },
   "source": [
    "## [Seaborn](http://seaborn.pydata.org/)\n",
    "\n",
    "High-level interface for `matplotlib`"
   ]
  },
  {
   "cell_type": "code",
   "execution_count": null,
   "metadata": {
    "collapsed": true
   },
   "outputs": [],
   "source": []
  },
  {
   "cell_type": "code",
   "execution_count": null,
   "metadata": {
    "collapsed": true
   },
   "outputs": [],
   "source": []
  },
  {
   "cell_type": "markdown",
   "metadata": {},
   "source": [
    "Seaborn also returns `matplotlib` `axis` objects..."
   ]
  },
  {
   "cell_type": "code",
   "execution_count": null,
   "metadata": {
    "collapsed": true
   },
   "outputs": [],
   "source": []
  },
  {
   "cell_type": "code",
   "execution_count": null,
   "metadata": {
    "collapsed": true
   },
   "outputs": [],
   "source": []
  },
  {
   "cell_type": "markdown",
   "metadata": {
    "slideshow": {
     "slide_type": "slide"
    }
   },
   "source": [
    "## [ggplot](http://ggplot.yhathq.com/)\n",
    "\n",
    "Another high-level `matplotlib` library, but this time mimicking `R`'s `ggplot`"
   ]
  },
  {
   "cell_type": "code",
   "execution_count": null,
   "metadata": {
    "collapsed": false
   },
   "outputs": [],
   "source": [
    "from ggplot import *\n",
    "ggplot(diamonds, aes(x='carat', y='price', color='cut')) +\\\n",
    "    geom_point() +\\\n",
    "    scale_color_brewer(type='diverging', palette=4) +\\\n",
    "    xlab(\"Carats\") + ylab(\"Price\") + ggtitle(\"Diamonds\")"
   ]
  },
  {
   "cell_type": "code",
   "execution_count": null,
   "metadata": {
    "collapsed": false
   },
   "outputs": [],
   "source": []
  },
  {
   "cell_type": "code",
   "execution_count": null,
   "metadata": {
    "collapsed": false
   },
   "outputs": [],
   "source": []
  },
  {
   "cell_type": "markdown",
   "metadata": {
    "slideshow": {
     "slide_type": "slide"
    }
   },
   "source": [
    "### [Bokeh](http://bokeh.pydata.org/)"
   ]
  },
  {
   "cell_type": "code",
   "execution_count": 2,
   "metadata": {
    "collapsed": false,
    "slideshow": {
     "slide_type": "subslide"
    }
   },
   "outputs": [
    {
     "data": {
      "text/html": [
       "\n",
       "    <div class=\"bk-root\">\n",
       "        <a href=\"http://bokeh.pydata.org\" target=\"_blank\" class=\"bk-logo bk-logo-small bk-logo-notebook\"></a>\n",
       "        <span id=\"c0d8b437-a6bb-4096-805a-c45bc61c3b7b\">Loading BokehJS ...</span>\n",
       "    </div>"
      ]
     },
     "metadata": {},
     "output_type": "display_data"
    },
    {
     "data": {
      "application/javascript": [
       "\n",
       "(function(global) {\n",
       "  function now() {\n",
       "    return new Date();\n",
       "  }\n",
       "\n",
       "  var force = \"1\";\n",
       "\n",
       "  if (typeof (window._bokeh_onload_callbacks) === \"undefined\" || force !== \"\") {\n",
       "    window._bokeh_onload_callbacks = [];\n",
       "    window._bokeh_is_loading = undefined;\n",
       "  }\n",
       "\n",
       "\n",
       "  \n",
       "  if (typeof (window._bokeh_timeout) === \"undefined\" || force !== \"\") {\n",
       "    window._bokeh_timeout = Date.now() + 5000;\n",
       "    window._bokeh_failed_load = false;\n",
       "  }\n",
       "\n",
       "  var NB_LOAD_WARNING = {'data': {'text/html':\n",
       "     \"<div style='background-color: #fdd'>\\n\"+\n",
       "     \"<p>\\n\"+\n",
       "     \"BokehJS does not appear to have successfully loaded. If loading BokehJS from CDN, this \\n\"+\n",
       "     \"may be due to a slow or bad network connection. Possible fixes:\\n\"+\n",
       "     \"</p>\\n\"+\n",
       "     \"<ul>\\n\"+\n",
       "     \"<li>re-rerun `output_notebook()` to attempt to load from CDN again, or</li>\\n\"+\n",
       "     \"<li>use INLINE resources instead, as so:</li>\\n\"+\n",
       "     \"</ul>\\n\"+\n",
       "     \"<code>\\n\"+\n",
       "     \"from bokeh.resources import INLINE\\n\"+\n",
       "     \"output_notebook(resources=INLINE)\\n\"+\n",
       "     \"</code>\\n\"+\n",
       "     \"</div>\"}};\n",
       "\n",
       "  function display_loaded() {\n",
       "    if (window.Bokeh !== undefined) {\n",
       "      Bokeh.$(\"#c0d8b437-a6bb-4096-805a-c45bc61c3b7b\").text(\"BokehJS successfully loaded.\");\n",
       "    } else if (Date.now() < window._bokeh_timeout) {\n",
       "      setTimeout(display_loaded, 100)\n",
       "    }\n",
       "  }\n",
       "\n",
       "  function run_callbacks() {\n",
       "    window._bokeh_onload_callbacks.forEach(function(callback) { callback() });\n",
       "    delete window._bokeh_onload_callbacks\n",
       "    console.info(\"Bokeh: all callbacks have finished\");\n",
       "  }\n",
       "\n",
       "  function load_libs(js_urls, callback) {\n",
       "    window._bokeh_onload_callbacks.push(callback);\n",
       "    if (window._bokeh_is_loading > 0) {\n",
       "      console.log(\"Bokeh: BokehJS is being loaded, scheduling callback at\", now());\n",
       "      return null;\n",
       "    }\n",
       "    if (js_urls == null || js_urls.length === 0) {\n",
       "      run_callbacks();\n",
       "      return null;\n",
       "    }\n",
       "    console.log(\"Bokeh: BokehJS not loaded, scheduling load and callback at\", now());\n",
       "    window._bokeh_is_loading = js_urls.length;\n",
       "    for (var i = 0; i < js_urls.length; i++) {\n",
       "      var url = js_urls[i];\n",
       "      var s = document.createElement('script');\n",
       "      s.src = url;\n",
       "      s.async = false;\n",
       "      s.onreadystatechange = s.onload = function() {\n",
       "        window._bokeh_is_loading--;\n",
       "        if (window._bokeh_is_loading === 0) {\n",
       "          console.log(\"Bokeh: all BokehJS libraries loaded\");\n",
       "          run_callbacks()\n",
       "        }\n",
       "      };\n",
       "      s.onerror = function() {\n",
       "        console.warn(\"failed to load library \" + url);\n",
       "      };\n",
       "      console.log(\"Bokeh: injecting script tag for BokehJS library: \", url);\n",
       "      document.getElementsByTagName(\"head\")[0].appendChild(s);\n",
       "    }\n",
       "  };var element = document.getElementById(\"c0d8b437-a6bb-4096-805a-c45bc61c3b7b\");\n",
       "  if (element == null) {\n",
       "    console.log(\"Bokeh: ERROR: autoload.js configured with elementid 'c0d8b437-a6bb-4096-805a-c45bc61c3b7b' but no matching script tag was found. \")\n",
       "    return false;\n",
       "  }\n",
       "\n",
       "  var js_urls = ['https://cdn.pydata.org/bokeh/release/bokeh-0.12.3.min.js', 'https://cdn.pydata.org/bokeh/release/bokeh-widgets-0.12.3.min.js'];\n",
       "\n",
       "  var inline_js = [\n",
       "    function(Bokeh) {\n",
       "      Bokeh.set_log_level(\"info\");\n",
       "    },\n",
       "    \n",
       "    function(Bokeh) {\n",
       "      \n",
       "      Bokeh.$(\"#c0d8b437-a6bb-4096-805a-c45bc61c3b7b\").text(\"BokehJS is loading...\");\n",
       "    },\n",
       "    function(Bokeh) {\n",
       "      console.log(\"Bokeh: injecting CSS: https://cdn.pydata.org/bokeh/release/bokeh-0.12.3.min.css\");\n",
       "      Bokeh.embed.inject_css(\"https://cdn.pydata.org/bokeh/release/bokeh-0.12.3.min.css\");\n",
       "      console.log(\"Bokeh: injecting CSS: https://cdn.pydata.org/bokeh/release/bokeh-widgets-0.12.3.min.css\");\n",
       "      Bokeh.embed.inject_css(\"https://cdn.pydata.org/bokeh/release/bokeh-widgets-0.12.3.min.css\");\n",
       "    }\n",
       "  ];\n",
       "\n",
       "  function run_inline_js() {\n",
       "    \n",
       "    if ((window.Bokeh !== undefined) || (force === \"1\")) {\n",
       "      for (var i = 0; i < inline_js.length; i++) {\n",
       "        inline_js[i](window.Bokeh);\n",
       "      }if (force === \"1\") {\n",
       "        display_loaded();\n",
       "      }} else if (Date.now() < window._bokeh_timeout) {\n",
       "      setTimeout(run_inline_js, 100);\n",
       "    } else if (!window._bokeh_failed_load) {\n",
       "      console.log(\"Bokeh: BokehJS failed to load within specified timeout.\");\n",
       "      window._bokeh_failed_load = true;\n",
       "    } else if (!force) {\n",
       "      var cell = $(\"#c0d8b437-a6bb-4096-805a-c45bc61c3b7b\").parents('.cell').data().cell;\n",
       "      cell.output_area.append_execute_result(NB_LOAD_WARNING)\n",
       "    }\n",
       "\n",
       "  }\n",
       "\n",
       "  if (window._bokeh_is_loading === 0) {\n",
       "    console.log(\"Bokeh: BokehJS loaded, going straight to plotting\");\n",
       "    run_inline_js();\n",
       "  } else {\n",
       "    load_libs(js_urls, function() {\n",
       "      console.log(\"Bokeh: BokehJS plotting callback run at\", now());\n",
       "      run_inline_js();\n",
       "    });\n",
       "  }\n",
       "}(this));"
      ]
     },
     "metadata": {},
     "output_type": "display_data"
    },
    {
     "data": {
      "text/html": [
       "\n",
       "\n",
       "    <div class=\"bk-root\">\n",
       "        <div class=\"plotdiv\" id=\"6923c15e-30be-4712-a09a-d2b6ae8480b0\"></div>\n",
       "    </div>\n",
       "<script type=\"text/javascript\">\n",
       "  \n",
       "  (function(global) {\n",
       "    function now() {\n",
       "      return new Date();\n",
       "    }\n",
       "  \n",
       "    var force = \"\";\n",
       "  \n",
       "    if (typeof (window._bokeh_onload_callbacks) === \"undefined\" || force !== \"\") {\n",
       "      window._bokeh_onload_callbacks = [];\n",
       "      window._bokeh_is_loading = undefined;\n",
       "    }\n",
       "  \n",
       "  \n",
       "    \n",
       "    if (typeof (window._bokeh_timeout) === \"undefined\" || force !== \"\") {\n",
       "      window._bokeh_timeout = Date.now() + 0;\n",
       "      window._bokeh_failed_load = false;\n",
       "    }\n",
       "  \n",
       "    var NB_LOAD_WARNING = {'data': {'text/html':\n",
       "       \"<div style='background-color: #fdd'>\\n\"+\n",
       "       \"<p>\\n\"+\n",
       "       \"BokehJS does not appear to have successfully loaded. If loading BokehJS from CDN, this \\n\"+\n",
       "       \"may be due to a slow or bad network connection. Possible fixes:\\n\"+\n",
       "       \"</p>\\n\"+\n",
       "       \"<ul>\\n\"+\n",
       "       \"<li>re-rerun `output_notebook()` to attempt to load from CDN again, or</li>\\n\"+\n",
       "       \"<li>use INLINE resources instead, as so:</li>\\n\"+\n",
       "       \"</ul>\\n\"+\n",
       "       \"<code>\\n\"+\n",
       "       \"from bokeh.resources import INLINE\\n\"+\n",
       "       \"output_notebook(resources=INLINE)\\n\"+\n",
       "       \"</code>\\n\"+\n",
       "       \"</div>\"}};\n",
       "  \n",
       "    function display_loaded() {\n",
       "      if (window.Bokeh !== undefined) {\n",
       "        Bokeh.$(\"#6923c15e-30be-4712-a09a-d2b6ae8480b0\").text(\"BokehJS successfully loaded.\");\n",
       "      } else if (Date.now() < window._bokeh_timeout) {\n",
       "        setTimeout(display_loaded, 100)\n",
       "      }\n",
       "    }if ((window.Jupyter !== undefined) && Jupyter.notebook.kernel) {\n",
       "      comm_manager = Jupyter.notebook.kernel.comm_manager\n",
       "      comm_manager.register_target(\"40870046-f68a-40da-ac65-be52a025a6d5\", function () {});\n",
       "    }\n",
       "  \n",
       "    function run_callbacks() {\n",
       "      window._bokeh_onload_callbacks.forEach(function(callback) { callback() });\n",
       "      delete window._bokeh_onload_callbacks\n",
       "      console.info(\"Bokeh: all callbacks have finished\");\n",
       "    }\n",
       "  \n",
       "    function load_libs(js_urls, callback) {\n",
       "      window._bokeh_onload_callbacks.push(callback);\n",
       "      if (window._bokeh_is_loading > 0) {\n",
       "        console.log(\"Bokeh: BokehJS is being loaded, scheduling callback at\", now());\n",
       "        return null;\n",
       "      }\n",
       "      if (js_urls == null || js_urls.length === 0) {\n",
       "        run_callbacks();\n",
       "        return null;\n",
       "      }\n",
       "      console.log(\"Bokeh: BokehJS not loaded, scheduling load and callback at\", now());\n",
       "      window._bokeh_is_loading = js_urls.length;\n",
       "      for (var i = 0; i < js_urls.length; i++) {\n",
       "        var url = js_urls[i];\n",
       "        var s = document.createElement('script');\n",
       "        s.src = url;\n",
       "        s.async = false;\n",
       "        s.onreadystatechange = s.onload = function() {\n",
       "          window._bokeh_is_loading--;\n",
       "          if (window._bokeh_is_loading === 0) {\n",
       "            console.log(\"Bokeh: all BokehJS libraries loaded\");\n",
       "            run_callbacks()\n",
       "          }\n",
       "        };\n",
       "        s.onerror = function() {\n",
       "          console.warn(\"failed to load library \" + url);\n",
       "        };\n",
       "        console.log(\"Bokeh: injecting script tag for BokehJS library: \", url);\n",
       "        document.getElementsByTagName(\"head\")[0].appendChild(s);\n",
       "      }\n",
       "    };var element = document.getElementById(\"6923c15e-30be-4712-a09a-d2b6ae8480b0\");\n",
       "    if (element == null) {\n",
       "      console.log(\"Bokeh: ERROR: autoload.js configured with elementid '6923c15e-30be-4712-a09a-d2b6ae8480b0' but no matching script tag was found. \")\n",
       "      return false;\n",
       "    }\n",
       "  \n",
       "    var js_urls = [];\n",
       "  \n",
       "    var inline_js = [\n",
       "      function(Bokeh) {\n",
       "        Bokeh.$(function() {\n",
       "            var docs_json = {\"e8b6789b-c3e2-4cb3-8778-8d7d6a2a7e6e\":{\"roots\":{\"references\":[{\"attributes\":{\"callback\":null,\"end\":19},\"id\":\"c8b74c83-fa04-413d-a94a-c74f3b9366c5\",\"type\":\"Range1d\"},{\"attributes\":{\"active_drag\":\"auto\",\"active_scroll\":\"auto\",\"active_tap\":\"auto\",\"tools\":[{\"id\":\"ea9ea3d8-1568-461f-a4ae-2f5eac8f1e57\",\"type\":\"PanTool\"},{\"id\":\"4da1c7f5-31f1-4967-a0e8-b1459c22297d\",\"type\":\"WheelZoomTool\"},{\"id\":\"90bd00f3-f743-4eab-88e7-5e06cd6dbf1c\",\"type\":\"BoxZoomTool\"},{\"id\":\"5d428838-2350-432f-95cf-e4e341c1bef5\",\"type\":\"SaveTool\"},{\"id\":\"95b27c1e-c244-4d9f-bbe6-d7c0807cd085\",\"type\":\"ResetTool\"},{\"id\":\"a68a81d6-bdb1-4e35-94c3-871be74f2094\",\"type\":\"HelpTool\"}]},\"id\":\"d1ad713c-fa45-45f6-971a-601ba158219c\",\"type\":\"Toolbar\"},{\"attributes\":{},\"id\":\"b7d09a9c-b3fe-4f36-a24a-86ab45b06dd2\",\"type\":\"BasicTickFormatter\"},{\"attributes\":{},\"id\":\"a443e473-9c96-4d42-b334-9e86336db084\",\"type\":\"BasicTicker\"},{\"attributes\":{\"fill_alpha\":{\"value\":0.8},\"fill_color\":{\"field\":\"fill_color\"},\"line_alpha\":{\"value\":0.8},\"line_color\":{\"value\":null},\"xs\":{\"field\":\"xs\"},\"ys\":{\"field\":\"ys\"}},\"id\":\"aef081eb-eb9c-4e2d-aec1-a1939f62bc99\",\"type\":\"Patches\"},{\"attributes\":{\"plot\":{\"id\":\"e09a7355-15f1-4d8f-9e18-30bff73c68a0\",\"subtype\":\"Figure\",\"type\":\"Plot\"}},\"id\":\"4da1c7f5-31f1-4967-a0e8-b1459c22297d\",\"type\":\"WheelZoomTool\"},{\"attributes\":{\"overlay\":{\"id\":\"2af028bb-bb36-4fb1-81da-72d2a84e028e\",\"type\":\"BoxAnnotation\"},\"plot\":{\"id\":\"e09a7355-15f1-4d8f-9e18-30bff73c68a0\",\"subtype\":\"Figure\",\"type\":\"Plot\"}},\"id\":\"90bd00f3-f743-4eab-88e7-5e06cd6dbf1c\",\"type\":\"BoxZoomTool\"},{\"attributes\":{\"formatter\":{\"id\":\"73f94d09-c34f-4df4-8e24-c98291d6d991\",\"type\":\"BasicTickFormatter\"},\"plot\":{\"id\":\"e09a7355-15f1-4d8f-9e18-30bff73c68a0\",\"subtype\":\"Figure\",\"type\":\"Plot\"},\"ticker\":{\"id\":\"4e940e60-d3a4-4093-8df8-4435b572c271\",\"type\":\"BasicTicker\"}},\"id\":\"b53107d4-f8b9-44c3-b5c0-e5e0f6ca29ed\",\"type\":\"LinearAxis\"},{\"attributes\":{\"bottom_units\":\"screen\",\"fill_alpha\":{\"value\":0.5},\"fill_color\":{\"value\":\"lightgrey\"},\"left_units\":\"screen\",\"level\":\"overlay\",\"line_alpha\":{\"value\":1.0},\"line_color\":{\"value\":\"black\"},\"line_dash\":[4,4],\"line_width\":{\"value\":2},\"plot\":null,\"render_mode\":\"css\",\"right_units\":\"screen\",\"top_units\":\"screen\"},\"id\":\"2af028bb-bb36-4fb1-81da-72d2a84e028e\",\"type\":\"BoxAnnotation\"},{\"attributes\":{\"dimension\":1,\"minor_grid_line_color\":{\"value\":\"#eeeeee\"},\"plot\":{\"id\":\"e09a7355-15f1-4d8f-9e18-30bff73c68a0\",\"subtype\":\"Figure\",\"type\":\"Plot\"},\"ticker\":{\"id\":\"a443e473-9c96-4d42-b334-9e86336db084\",\"type\":\"BasicTicker\"}},\"id\":\"5406b2e0-1bd0-42ae-a7ba-538ca8adf9e5\",\"type\":\"Grid\"},{\"attributes\":{\"formatter\":{\"id\":\"b7d09a9c-b3fe-4f36-a24a-86ab45b06dd2\",\"type\":\"BasicTickFormatter\"},\"plot\":{\"id\":\"e09a7355-15f1-4d8f-9e18-30bff73c68a0\",\"subtype\":\"Figure\",\"type\":\"Plot\"},\"ticker\":{\"id\":\"a443e473-9c96-4d42-b334-9e86336db084\",\"type\":\"BasicTicker\"}},\"id\":\"66fc6f1f-8a89-4ba0-8ec9-35b7b35ff6fb\",\"type\":\"LinearAxis\"},{\"attributes\":{\"minor_grid_line_color\":{\"value\":\"#eeeeee\"},\"plot\":{\"id\":\"e09a7355-15f1-4d8f-9e18-30bff73c68a0\",\"subtype\":\"Figure\",\"type\":\"Plot\"},\"ticker\":{\"id\":\"4e940e60-d3a4-4093-8df8-4435b572c271\",\"type\":\"BasicTicker\"}},\"id\":\"05b8d452-80e5-4334-b6d1-3c12300d67bf\",\"type\":\"Grid\"},{\"attributes\":{\"plot\":null,\"text\":null},\"id\":\"de5c2f8b-fd71-4333-9c42-fa42693f9d8f\",\"type\":\"Title\"},{\"attributes\":{\"fill_alpha\":{\"value\":0.1},\"fill_color\":{\"value\":\"#1f77b4\"},\"line_alpha\":{\"value\":0.1},\"line_color\":{\"value\":\"#1f77b4\"},\"xs\":{\"field\":\"xs\"},\"ys\":{\"field\":\"ys\"}},\"id\":\"5fb6eb6d-9be8-4c8b-a976-7b049835bf4f\",\"type\":\"Patches\"},{\"attributes\":{\"plot\":{\"id\":\"e09a7355-15f1-4d8f-9e18-30bff73c68a0\",\"subtype\":\"Figure\",\"type\":\"Plot\"}},\"id\":\"ea9ea3d8-1568-461f-a4ae-2f5eac8f1e57\",\"type\":\"PanTool\"},{\"attributes\":{\"plot\":{\"id\":\"e09a7355-15f1-4d8f-9e18-30bff73c68a0\",\"subtype\":\"Figure\",\"type\":\"Plot\"}},\"id\":\"a68a81d6-bdb1-4e35-94c3-871be74f2094\",\"type\":\"HelpTool\"},{\"attributes\":{\"plot\":{\"id\":\"e09a7355-15f1-4d8f-9e18-30bff73c68a0\",\"subtype\":\"Figure\",\"type\":\"Plot\"}},\"id\":\"95b27c1e-c244-4d9f-bbe6-d7c0807cd085\",\"type\":\"ResetTool\"},{\"attributes\":{\"below\":[{\"id\":\"b53107d4-f8b9-44c3-b5c0-e5e0f6ca29ed\",\"type\":\"LinearAxis\"}],\"left\":[{\"id\":\"66fc6f1f-8a89-4ba0-8ec9-35b7b35ff6fb\",\"type\":\"LinearAxis\"}],\"renderers\":[{\"id\":\"b53107d4-f8b9-44c3-b5c0-e5e0f6ca29ed\",\"type\":\"LinearAxis\"},{\"id\":\"05b8d452-80e5-4334-b6d1-3c12300d67bf\",\"type\":\"Grid\"},{\"id\":\"66fc6f1f-8a89-4ba0-8ec9-35b7b35ff6fb\",\"type\":\"LinearAxis\"},{\"id\":\"5406b2e0-1bd0-42ae-a7ba-538ca8adf9e5\",\"type\":\"Grid\"},{\"id\":\"2af028bb-bb36-4fb1-81da-72d2a84e028e\",\"type\":\"BoxAnnotation\"},{\"id\":\"1023fc7c-8ba3-4afa-811d-803e8278df08\",\"type\":\"GlyphRenderer\"}],\"title\":{\"id\":\"de5c2f8b-fd71-4333-9c42-fa42693f9d8f\",\"type\":\"Title\"},\"tool_events\":{\"id\":\"759c7ad7-87ff-450c-8e3f-c014fe1cb403\",\"type\":\"ToolEvents\"},\"toolbar\":{\"id\":\"d1ad713c-fa45-45f6-971a-601ba158219c\",\"type\":\"Toolbar\"},\"x_range\":{\"id\":\"c8b74c83-fa04-413d-a94a-c74f3b9366c5\",\"type\":\"Range1d\"},\"y_range\":{\"id\":\"9f873cec-814a-4b5d-972b-77e6a18d6905\",\"type\":\"Range1d\"}},\"id\":\"e09a7355-15f1-4d8f-9e18-30bff73c68a0\",\"subtype\":\"Figure\",\"type\":\"Plot\"},{\"attributes\":{},\"id\":\"73f94d09-c34f-4df4-8e24-c98291d6d991\",\"type\":\"BasicTickFormatter\"},{\"attributes\":{},\"id\":\"4e940e60-d3a4-4093-8df8-4435b572c271\",\"type\":\"BasicTicker\"},{\"attributes\":{\"data_source\":{\"id\":\"fd12b089-edc0-4b42-b270-79211912d0a8\",\"type\":\"ColumnDataSource\"},\"glyph\":{\"id\":\"aef081eb-eb9c-4e2d-aec1-a1939f62bc99\",\"type\":\"Patches\"},\"hover_glyph\":null,\"nonselection_glyph\":{\"id\":\"5fb6eb6d-9be8-4c8b-a976-7b049835bf4f\",\"type\":\"Patches\"},\"selection_glyph\":null},\"id\":\"1023fc7c-8ba3-4afa-811d-803e8278df08\",\"type\":\"GlyphRenderer\"},{\"attributes\":{\"callback\":null,\"end\":800},\"id\":\"9f873cec-814a-4b5d-972b-77e6a18d6905\",\"type\":\"Range1d\"},{\"attributes\":{\"plot\":{\"id\":\"e09a7355-15f1-4d8f-9e18-30bff73c68a0\",\"subtype\":\"Figure\",\"type\":\"Plot\"}},\"id\":\"5d428838-2350-432f-95cf-e4e341c1bef5\",\"type\":\"SaveTool\"},{\"attributes\":{},\"id\":\"759c7ad7-87ff-450c-8e3f-c014fe1cb403\",\"type\":\"ToolEvents\"},{\"attributes\":{\"callback\":null,\"column_names\":[\"xs\",\"ys\",\"fill_color\"],\"data\":{\"fill_color\":[\"#5e4fa2\",\"#3288bd\",\"#66c2a5\",\"#abdda4\",\"#e6f598\",\"#fee08b\",\"#fdae61\",\"#f46d43\",\"#d53e4f\",\"#9e0142\"],\"xs\":[[19,18,17,16,15,14,13,12,11,10,9,8,7,6,5,4,3,2,1,0,0,1,2,3,4,5,6,7,8,9,10,11,12,13,14,15,16,17,18,19],[19,18,17,16,15,14,13,12,11,10,9,8,7,6,5,4,3,2,1,0,0,1,2,3,4,5,6,7,8,9,10,11,12,13,14,15,16,17,18,19],[19,18,17,16,15,14,13,12,11,10,9,8,7,6,5,4,3,2,1,0,0,1,2,3,4,5,6,7,8,9,10,11,12,13,14,15,16,17,18,19],[19,18,17,16,15,14,13,12,11,10,9,8,7,6,5,4,3,2,1,0,0,1,2,3,4,5,6,7,8,9,10,11,12,13,14,15,16,17,18,19],[19,18,17,16,15,14,13,12,11,10,9,8,7,6,5,4,3,2,1,0,0,1,2,3,4,5,6,7,8,9,10,11,12,13,14,15,16,17,18,19],[19,18,17,16,15,14,13,12,11,10,9,8,7,6,5,4,3,2,1,0,0,1,2,3,4,5,6,7,8,9,10,11,12,13,14,15,16,17,18,19],[19,18,17,16,15,14,13,12,11,10,9,8,7,6,5,4,3,2,1,0,0,1,2,3,4,5,6,7,8,9,10,11,12,13,14,15,16,17,18,19],[19,18,17,16,15,14,13,12,11,10,9,8,7,6,5,4,3,2,1,0,0,1,2,3,4,5,6,7,8,9,10,11,12,13,14,15,16,17,18,19],[19,18,17,16,15,14,13,12,11,10,9,8,7,6,5,4,3,2,1,0,0,1,2,3,4,5,6,7,8,9,10,11,12,13,14,15,16,17,18,19],[19,18,17,16,15,14,13,12,11,10,9,8,7,6,5,4,3,2,1,0,0,1,2,3,4,5,6,7,8,9,10,11,12,13,14,15,16,17,18,19]],\"ys\":[[0.0,0.0,0.0,0.0,0.0,0.0,0.0,0.0,0.0,0.0,0.0,0.0,0.0,0.0,0.0,0.0,0.0,0.0,0.0,0.0,27.0,86.0,43.0,49.0,99.0,61.0,53.0,86.0,24.0,92.0,22.0,12.0,62.0,11.0,52.0,35.0,21.0,73.0,48.0,23.0],[23.0,48.0,73.0,21.0,35.0,52.0,11.0,62.0,12.0,22.0,92.0,24.0,86.0,53.0,61.0,99.0,49.0,43.0,86.0,27.0,43.0,109.0,105.0,85.0,152.0,121.0,118.0,131.0,55.0,118.0,59.0,107.0,100.0,60.0,107.0,134.0,41.0,120.0,123.0,112.0],[112.0,123.0,120.0,41.0,134.0,107.0,60.0,100.0,107.0,59.0,118.0,55.0,131.0,118.0,121.0,152.0,85.0,105.0,109.0,43.0,64.0,187.0,182.0,133.0,235.0,205.0,202.0,200.0,110.0,206.0,89.0,119.0,169.0,139.0,118.0,169.0,108.0,139.0,134.0,193.0],[193.0,134.0,139.0,108.0,169.0,118.0,139.0,169.0,119.0,89.0,206.0,110.0,200.0,202.0,205.0,235.0,133.0,182.0,187.0,64.0,87.0,240.0,272.0,209.0,299.0,252.0,248.0,271.0,196.0,284.0,160.0,151.0,252.0,187.0,174.0,192.0,140.0,156.0,221.0,285.0],[285.0,221.0,156.0,140.0,192.0,174.0,187.0,252.0,151.0,160.0,284.0,196.0,271.0,248.0,252.0,299.0,209.0,272.0,240.0,87.0,121.0,273.0,287.0,290.0,391.0,333.0,298.0,306.0,290.0,321.0,171.0,174.0,265.0,253.0,201.0,255.0,200.0,184.0,247.0,337.0],[337.0,247.0,184.0,200.0,255.0,201.0,253.0,265.0,174.0,171.0,321.0,290.0,306.0,298.0,333.0,391.0,290.0,287.0,273.0,121.0,143.0,356.0,309.0,341.0,474.0,409.0,315.0,357.0,307.0,369.0,239.0,200.0,315.0,331.0,255.0,318.0,266.0,194.0,282.0,425.0],[425.0,282.0,194.0,266.0,318.0,255.0,331.0,315.0,200.0,239.0,369.0,307.0,357.0,315.0,409.0,474.0,341.0,309.0,356.0,143.0,157.0,453.0,397.0,374.0,554.0,427.0,391.0,418.0,330.0,414.0,333.0,253.0,329.0,416.0,312.0,411.0,279.0,245.0,325.0,491.0],[491.0,325.0,245.0,279.0,411.0,312.0,416.0,329.0,253.0,333.0,414.0,330.0,418.0,391.0,427.0,554.0,374.0,397.0,453.0,157.0,204.0,548.0,418.0,401.0,653.0,496.0,480.0,491.0,407.0,451.0,406.0,313.0,341.0,466.0,337.0,474.0,300.0,258.0,369.0,528.0],[528.0,369.0,258.0,300.0,474.0,337.0,466.0,341.0,313.0,406.0,451.0,407.0,491.0,480.0,496.0,653.0,401.0,418.0,548.0,204.0,268.0,595.0,488.0,422.0,748.0,544.0,492.0,532.0,465.0,469.0,454.0,349.0,354.0,551.0,424.0,544.0,347.0,340.0,384.0,609.0],[609.0,384.0,340.0,347.0,544.0,424.0,551.0,354.0,349.0,454.0,469.0,465.0,532.0,492.0,544.0,748.0,422.0,488.0,595.0,268.0,355.0,605.0,552.0,495.0,769.0,574.0,564.0,625.0,507.0,558.0,541.0,380.0,395.0,568.0,495.0,587.0,377.0,406.0,441.0,622.0]]}},\"id\":\"fd12b089-edc0-4b42-b270-79211912d0a8\",\"type\":\"ColumnDataSource\"}],\"root_ids\":[\"e09a7355-15f1-4d8f-9e18-30bff73c68a0\"]},\"title\":\"Bokeh Application\",\"version\":\"0.12.3\"}};\n",
       "            var render_items = [{\"docid\":\"e8b6789b-c3e2-4cb3-8778-8d7d6a2a7e6e\",\"elementid\":\"6923c15e-30be-4712-a09a-d2b6ae8480b0\",\"modelid\":\"e09a7355-15f1-4d8f-9e18-30bff73c68a0\",\"notebook_comms_target\":\"40870046-f68a-40da-ac65-be52a025a6d5\"}];\n",
       "            \n",
       "            Bokeh.embed.embed_items(docs_json, render_items);\n",
       "        });\n",
       "      },\n",
       "      function(Bokeh) {\n",
       "      }\n",
       "    ];\n",
       "  \n",
       "    function run_inline_js() {\n",
       "      \n",
       "      if ((window.Bokeh !== undefined) || (force === \"1\")) {\n",
       "        for (var i = 0; i < inline_js.length; i++) {\n",
       "          inline_js[i](window.Bokeh);\n",
       "        }if (force === \"1\") {\n",
       "          display_loaded();\n",
       "        }} else if (Date.now() < window._bokeh_timeout) {\n",
       "        setTimeout(run_inline_js, 100);\n",
       "      } else if (!window._bokeh_failed_load) {\n",
       "        console.log(\"Bokeh: BokehJS failed to load within specified timeout.\");\n",
       "        window._bokeh_failed_load = true;\n",
       "      } else if (!force) {\n",
       "        var cell = $(\"#6923c15e-30be-4712-a09a-d2b6ae8480b0\").parents('.cell').data().cell;\n",
       "        cell.output_area.append_execute_result(NB_LOAD_WARNING)\n",
       "      }\n",
       "  \n",
       "    }\n",
       "  \n",
       "    if (window._bokeh_is_loading === 0) {\n",
       "      console.log(\"Bokeh: BokehJS loaded, going straight to plotting\");\n",
       "      run_inline_js();\n",
       "    } else {\n",
       "      load_libs(js_urls, function() {\n",
       "        console.log(\"Bokeh: BokehJS plotting callback run at\", now());\n",
       "        run_inline_js();\n",
       "      });\n",
       "    }\n",
       "  }(this));\n",
       "</script>"
      ]
     },
     "metadata": {},
     "output_type": "display_data"
    }
   ],
   "source": [
    "from bokeh.io import push_notebook, show, output_notebook\n",
    "from bokeh.layouts import row\n",
    "from bokeh.plotting import figure\n",
    "from bokeh.palettes import brewer\n",
    "output_notebook()\n",
    "\n",
    "N = 20\n",
    "categories = ['y' + str(x) for x in range(10)]\n",
    "data = {}\n",
    "data['x'] = np.arange(N)\n",
    "for cat in categories:\n",
    "    data[cat] = np.random.randint(10, 100, size=N)\n",
    "\n",
    "df = pd.DataFrame(data)\n",
    "df = df.set_index(['x'])\n",
    "\n",
    "def stacked(df, categories):\n",
    "    areas = dict()\n",
    "    last = np.zeros(len(df[categories[0]]))\n",
    "    for cat in categories:\n",
    "        next = last + df[cat]\n",
    "        areas[cat] = np.hstack((last[::-1], next))\n",
    "        last = next\n",
    "    return areas\n",
    "\n",
    "areas = stacked(df, categories)\n",
    "\n",
    "colors = brewer[\"Spectral\"][len(areas)]\n",
    "\n",
    "x2 = np.hstack((data['x'][::-1], data['x']))\n",
    "\n",
    "p = figure(x_range=(0, 19), y_range=(0, 800))\n",
    "p.grid.minor_grid_line_color = '#eeeeee'\n",
    "\n",
    "p.patches([x2] * len(areas), [areas[cat] for cat in categories],\n",
    "          color=colors, alpha=0.8, line_color=None)\n",
    "\n",
    "show(p, notebook_handle=True)\n",
    "push_notebook()"
   ]
  },
  {
   "cell_type": "markdown",
   "metadata": {
    "slideshow": {
     "slide_type": "slide"
    }
   },
   "source": [
    "## So many plotting libraries!"
   ]
  },
  {
   "cell_type": "code",
   "execution_count": null,
   "metadata": {
    "collapsed": false
   },
   "outputs": [],
   "source": [
    "display.HTML('<iframe src=\"https://dansaber.wordpress.com/2016/10/02/a-dramatic-tour-through-pythons-data-visualization-landscape-including-ggplot-and-altair/\" width=1024 height=500>')"
   ]
  },
  {
   "cell_type": "markdown",
   "metadata": {
    "slideshow": {
     "slide_type": "slide"
    }
   },
   "source": [
    "## Exercise 6 - \"Choose your own adventure\" workshop\n",
    "\n",
    "1. Grab the data of your choice\n",
    "    - Can't think of anything? [GHDx](http://ghdx.healthdata.org/)\n",
    "2. Load it into a Pandas `DataFrame`\n",
    "3. Compute some summary statistics\n",
    "4. Create some cool plots"
   ]
  },
  {
   "cell_type": "markdown",
   "metadata": {
    "slideshow": {
     "slide_type": "slide"
    }
   },
   "source": [
    "## References\n",
    "\n",
    "Slide materials inspired by and adapted from [Chris Fonnesbeck](https://github.com/fonnesbeck/statistical-analysis-python-tutorial) and [Tom Augspurger](https://github.com/TomAugspurger/pydata-chi-h2t)"
   ]
  }
 ],
 "metadata": {
  "anaconda-cloud": {},
  "kernelspec": {
   "display_name": "Python [conda root]",
   "language": "python",
   "name": "conda-root-py"
  },
  "language_info": {
   "codemirror_mode": {
    "name": "ipython",
    "version": 3
   },
   "file_extension": ".py",
   "mimetype": "text/x-python",
   "name": "python",
   "nbconvert_exporter": "python",
   "pygments_lexer": "ipython3",
   "version": "3.5.2"
  },
  "livereveal": {
   "height": 768,
   "scroll": true,
   "slideNumber": true,
   "start_slideshow_at": "selected",
   "theme": "league",
   "width": 1024
  }
 },
 "nbformat": 4,
 "nbformat_minor": 1
}
