{
 "cells": [
  {
   "cell_type": "markdown",
   "metadata": {
    "slideshow": {
     "slide_type": "slide"
    }
   },
   "source": [
    "# Pandas III"
   ]
  },
  {
   "cell_type": "code",
   "execution_count": 1,
   "metadata": {
    "collapsed": true,
    "slideshow": {
     "slide_type": "slide"
    }
   },
   "outputs": [],
   "source": [
    "%matplotlib inline\n",
    "import pandas as pd\n",
    "import numpy as np\n",
    "pd.options.display.max_rows = 10"
   ]
  },
  {
   "cell_type": "code",
   "execution_count": 2,
   "metadata": {
    "collapsed": false
   },
   "outputs": [
    {
     "data": {
      "text/html": [
       "<div>\n",
       "<table border=\"1\" class=\"dataframe\">\n",
       "  <thead>\n",
       "    <tr style=\"text-align: right;\">\n",
       "      <th></th>\n",
       "      <th>abv</th>\n",
       "      <th>beer_id</th>\n",
       "      <th>brewer_id</th>\n",
       "      <th>beer_name</th>\n",
       "      <th>beer_style</th>\n",
       "      <th>review_appearance</th>\n",
       "      <th>review_aroma</th>\n",
       "      <th>review_overall</th>\n",
       "      <th>review_palate</th>\n",
       "      <th>profile_name</th>\n",
       "      <th>review_taste</th>\n",
       "      <th>text</th>\n",
       "      <th>time</th>\n",
       "    </tr>\n",
       "  </thead>\n",
       "  <tbody>\n",
       "    <tr>\n",
       "      <th>0</th>\n",
       "      <td>7.0</td>\n",
       "      <td>2511</td>\n",
       "      <td>287</td>\n",
       "      <td>Bell's Cherry Stout</td>\n",
       "      <td>American Stout</td>\n",
       "      <td>4.5</td>\n",
       "      <td>4.0</td>\n",
       "      <td>4.5</td>\n",
       "      <td>4.0</td>\n",
       "      <td>blaheath</td>\n",
       "      <td>4.5</td>\n",
       "      <td>Batch 8144\\tPitch black in color with a 1/2 f...</td>\n",
       "      <td>2009-10-05 21:31:48</td>\n",
       "    </tr>\n",
       "    <tr>\n",
       "      <th>1</th>\n",
       "      <td>5.7</td>\n",
       "      <td>19736</td>\n",
       "      <td>9790</td>\n",
       "      <td>Duck-Rabbit Porter</td>\n",
       "      <td>American Porter</td>\n",
       "      <td>4.5</td>\n",
       "      <td>4.0</td>\n",
       "      <td>4.5</td>\n",
       "      <td>4.0</td>\n",
       "      <td>GJ40</td>\n",
       "      <td>4.0</td>\n",
       "      <td>Sampled from a 12oz bottle in a standard pint...</td>\n",
       "      <td>2009-10-05 21:32:09</td>\n",
       "    </tr>\n",
       "    <tr>\n",
       "      <th>2</th>\n",
       "      <td>4.8</td>\n",
       "      <td>11098</td>\n",
       "      <td>3182</td>\n",
       "      <td>Fürstenberg Premium Pilsener</td>\n",
       "      <td>German Pilsener</td>\n",
       "      <td>4.0</td>\n",
       "      <td>3.0</td>\n",
       "      <td>3.0</td>\n",
       "      <td>3.0</td>\n",
       "      <td>biegaman</td>\n",
       "      <td>3.5</td>\n",
       "      <td>Haystack yellow with an energetic group of bu...</td>\n",
       "      <td>2009-10-05 21:32:13</td>\n",
       "    </tr>\n",
       "    <tr>\n",
       "      <th>3</th>\n",
       "      <td>9.5</td>\n",
       "      <td>28577</td>\n",
       "      <td>3818</td>\n",
       "      <td>Unearthly (Imperial India Pale Ale)</td>\n",
       "      <td>American Double / Imperial IPA</td>\n",
       "      <td>4.0</td>\n",
       "      <td>4.0</td>\n",
       "      <td>4.0</td>\n",
       "      <td>4.0</td>\n",
       "      <td>nick76</td>\n",
       "      <td>4.0</td>\n",
       "      <td>The aroma has pine, wood, citrus, caramel, an...</td>\n",
       "      <td>2009-10-05 21:32:37</td>\n",
       "    </tr>\n",
       "    <tr>\n",
       "      <th>4</th>\n",
       "      <td>5.8</td>\n",
       "      <td>398</td>\n",
       "      <td>119</td>\n",
       "      <td>Wolaver's Pale Ale</td>\n",
       "      <td>American Pale Ale (APA)</td>\n",
       "      <td>4.0</td>\n",
       "      <td>3.0</td>\n",
       "      <td>4.0</td>\n",
       "      <td>3.5</td>\n",
       "      <td>champ103</td>\n",
       "      <td>3.0</td>\n",
       "      <td>A: Pours a slightly hazy golden/orange color....</td>\n",
       "      <td>2009-10-05 21:33:14</td>\n",
       "    </tr>\n",
       "  </tbody>\n",
       "</table>\n",
       "</div>"
      ],
      "text/plain": [
       "   abv  beer_id  brewer_id                            beer_name  \\\n",
       "0  7.0     2511        287                  Bell's Cherry Stout   \n",
       "1  5.7    19736       9790                   Duck-Rabbit Porter   \n",
       "2  4.8    11098       3182         Fürstenberg Premium Pilsener   \n",
       "3  9.5    28577       3818  Unearthly (Imperial India Pale Ale)   \n",
       "4  5.8      398        119                   Wolaver's Pale Ale   \n",
       "\n",
       "                       beer_style  review_appearance  review_aroma  \\\n",
       "0                  American Stout                4.5           4.0   \n",
       "1                 American Porter                4.5           4.0   \n",
       "2                 German Pilsener                4.0           3.0   \n",
       "3  American Double / Imperial IPA                4.0           4.0   \n",
       "4         American Pale Ale (APA)                4.0           3.0   \n",
       "\n",
       "   review_overall  review_palate profile_name  review_taste  \\\n",
       "0             4.5            4.0     blaheath           4.5   \n",
       "1             4.5            4.0         GJ40           4.0   \n",
       "2             3.0            3.0     biegaman           3.5   \n",
       "3             4.0            4.0       nick76           4.0   \n",
       "4             4.0            3.5     champ103           3.0   \n",
       "\n",
       "                                                text                time  \n",
       "0   Batch 8144\\tPitch black in color with a 1/2 f... 2009-10-05 21:31:48  \n",
       "1   Sampled from a 12oz bottle in a standard pint... 2009-10-05 21:32:09  \n",
       "2   Haystack yellow with an energetic group of bu... 2009-10-05 21:32:13  \n",
       "3   The aroma has pine, wood, citrus, caramel, an... 2009-10-05 21:32:37  \n",
       "4   A: Pours a slightly hazy golden/orange color.... 2009-10-05 21:33:14  "
      ]
     },
     "execution_count": 2,
     "metadata": {},
     "output_type": "execute_result"
    }
   ],
   "source": [
    "df = pd.read_csv('data/beer_subset.csv.gz', parse_dates=['time'], compression='gzip')\n",
    "df.head()"
   ]
  },
  {
   "cell_type": "markdown",
   "metadata": {
    "slideshow": {
     "slide_type": "slide"
    }
   },
   "source": [
    "### Groupby"
   ]
  },
  {
   "cell_type": "markdown",
   "metadata": {
    "slideshow": {
     "slide_type": "fragment"
    }
   },
   "source": [
    "The components of a groupby operation are to\n",
    "\n",
    "1. Split a table into groups\n",
    "2. Apply a function to each group\n",
    "3. Combine the results"
   ]
  },
  {
   "cell_type": "markdown",
   "metadata": {
    "slideshow": {
     "slide_type": "fragment"
    }
   },
   "source": [
    "In pandas the first step looks like\n",
    "\n",
    "```python\n",
    "df.groupby( grouper )\n",
    "```"
   ]
  },
  {
   "cell_type": "markdown",
   "metadata": {
    "slideshow": {
     "slide_type": "fragment"
    }
   },
   "source": [
    "`grouper` can be many things\n",
    "\n",
    "- Series (or string indicating a column in `df`)\n",
    "- function (to be applied on the index)\n",
    "- dict : groups by *values*\n",
    "- `levels=[ names of levels in a MultiIndex ]`"
   ]
  },
  {
   "cell_type": "code",
   "execution_count": 3,
   "metadata": {
    "collapsed": false,
    "slideshow": {
     "slide_type": "-"
    }
   },
   "outputs": [
    {
     "data": {
      "text/plain": [
       "<pandas.core.groupby.DataFrameGroupBy object at 0x10473f2e8>"
      ]
     },
     "execution_count": 3,
     "metadata": {},
     "output_type": "execute_result"
    }
   ],
   "source": []
  },
  {
   "cell_type": "code",
   "execution_count": null,
   "metadata": {
    "collapsed": true
   },
   "outputs": [],
   "source": []
  },
  {
   "cell_type": "markdown",
   "metadata": {
    "collapsed": false,
    "slideshow": {
     "slide_type": "fragment"
    }
   },
   "source": [
    "Haven't really done anything yet. Just some book-keeping to figure out which **keys** go with which **rows**. Keys are the things we've grouped by (each `beer_style` in this case)."
   ]
  },
  {
   "cell_type": "code",
   "execution_count": null,
   "metadata": {
    "collapsed": true,
    "slideshow": {
     "slide_type": "-"
    }
   },
   "outputs": [],
   "source": []
  },
  {
   "cell_type": "code",
   "execution_count": null,
   "metadata": {
    "collapsed": true,
    "slideshow": {
     "slide_type": "-"
    }
   },
   "outputs": [],
   "source": []
  },
  {
   "cell_type": "markdown",
   "metadata": {
    "slideshow": {
     "slide_type": "subslide"
    }
   },
   "source": [
    "There's a generic aggregation function:"
   ]
  },
  {
   "cell_type": "code",
   "execution_count": null,
   "metadata": {
    "collapsed": true
   },
   "outputs": [],
   "source": []
  },
  {
   "cell_type": "markdown",
   "metadata": {
    "slideshow": {
     "slide_type": "fragment"
    }
   },
   "source": [
    "Which accepts some common operations as strings:"
   ]
  },
  {
   "cell_type": "code",
   "execution_count": 6,
   "metadata": {
    "collapsed": false,
    "slideshow": {
     "slide_type": "-"
    }
   },
   "outputs": [
    {
     "data": {
      "text/html": [
       "<div>\n",
       "<table border=\"1\" class=\"dataframe\">\n",
       "  <thead>\n",
       "    <tr style=\"text-align: right;\">\n",
       "      <th></th>\n",
       "      <th>abv</th>\n",
       "      <th>beer_id</th>\n",
       "      <th>brewer_id</th>\n",
       "      <th>review_appearance</th>\n",
       "      <th>review_aroma</th>\n",
       "      <th>review_overall</th>\n",
       "      <th>review_palate</th>\n",
       "      <th>review_taste</th>\n",
       "    </tr>\n",
       "    <tr>\n",
       "      <th>beer_style</th>\n",
       "      <th></th>\n",
       "      <th></th>\n",
       "      <th></th>\n",
       "      <th></th>\n",
       "      <th></th>\n",
       "      <th></th>\n",
       "      <th></th>\n",
       "      <th></th>\n",
       "    </tr>\n",
       "  </thead>\n",
       "  <tbody>\n",
       "    <tr>\n",
       "      <th>Altbier</th>\n",
       "      <td>5.850000</td>\n",
       "      <td>43260.500000</td>\n",
       "      <td>419.500000</td>\n",
       "      <td>4.000000</td>\n",
       "      <td>3.750000</td>\n",
       "      <td>4.000000</td>\n",
       "      <td>3.750000</td>\n",
       "      <td>4.000000</td>\n",
       "    </tr>\n",
       "    <tr>\n",
       "      <th>American Adjunct Lager</th>\n",
       "      <td>4.872727</td>\n",
       "      <td>12829.909091</td>\n",
       "      <td>2585.909091</td>\n",
       "      <td>2.954545</td>\n",
       "      <td>2.613636</td>\n",
       "      <td>3.272727</td>\n",
       "      <td>2.909091</td>\n",
       "      <td>2.750000</td>\n",
       "    </tr>\n",
       "    <tr>\n",
       "      <th>American Amber / Red Ale</th>\n",
       "      <td>6.195652</td>\n",
       "      <td>28366.777778</td>\n",
       "      <td>2531.111111</td>\n",
       "      <td>3.740741</td>\n",
       "      <td>3.592593</td>\n",
       "      <td>3.870370</td>\n",
       "      <td>3.555556</td>\n",
       "      <td>3.777778</td>\n",
       "    </tr>\n",
       "    <tr>\n",
       "      <th>American Amber / Red Lager</th>\n",
       "      <td>4.822857</td>\n",
       "      <td>22277.500000</td>\n",
       "      <td>5620.125000</td>\n",
       "      <td>3.437500</td>\n",
       "      <td>3.312500</td>\n",
       "      <td>3.375000</td>\n",
       "      <td>3.187500</td>\n",
       "      <td>3.125000</td>\n",
       "    </tr>\n",
       "    <tr>\n",
       "      <th>American Barleywine</th>\n",
       "      <td>10.208333</td>\n",
       "      <td>32457.250000</td>\n",
       "      <td>3744.083333</td>\n",
       "      <td>3.958333</td>\n",
       "      <td>3.937500</td>\n",
       "      <td>3.729167</td>\n",
       "      <td>3.895833</td>\n",
       "      <td>3.937500</td>\n",
       "    </tr>\n",
       "    <tr>\n",
       "      <th>...</th>\n",
       "      <td>...</td>\n",
       "      <td>...</td>\n",
       "      <td>...</td>\n",
       "      <td>...</td>\n",
       "      <td>...</td>\n",
       "      <td>...</td>\n",
       "      <td>...</td>\n",
       "      <td>...</td>\n",
       "    </tr>\n",
       "    <tr>\n",
       "      <th>Tripel</th>\n",
       "      <td>9.329412</td>\n",
       "      <td>16027.705882</td>\n",
       "      <td>2882.882353</td>\n",
       "      <td>4.264706</td>\n",
       "      <td>4.088235</td>\n",
       "      <td>3.970588</td>\n",
       "      <td>3.911765</td>\n",
       "      <td>4.176471</td>\n",
       "    </tr>\n",
       "    <tr>\n",
       "      <th>Vienna Lager</th>\n",
       "      <td>4.985714</td>\n",
       "      <td>19497.750000</td>\n",
       "      <td>6180.750000</td>\n",
       "      <td>3.500000</td>\n",
       "      <td>3.250000</td>\n",
       "      <td>3.375000</td>\n",
       "      <td>3.562500</td>\n",
       "      <td>3.312500</td>\n",
       "    </tr>\n",
       "    <tr>\n",
       "      <th>Weizenbock</th>\n",
       "      <td>8.350000</td>\n",
       "      <td>19540.500000</td>\n",
       "      <td>250.000000</td>\n",
       "      <td>4.000000</td>\n",
       "      <td>3.750000</td>\n",
       "      <td>4.250000</td>\n",
       "      <td>4.250000</td>\n",
       "      <td>4.250000</td>\n",
       "    </tr>\n",
       "    <tr>\n",
       "      <th>Wheatwine</th>\n",
       "      <td>11.075000</td>\n",
       "      <td>36980.000000</td>\n",
       "      <td>629.600000</td>\n",
       "      <td>3.800000</td>\n",
       "      <td>4.000000</td>\n",
       "      <td>3.500000</td>\n",
       "      <td>4.000000</td>\n",
       "      <td>3.700000</td>\n",
       "    </tr>\n",
       "    <tr>\n",
       "      <th>Witbier</th>\n",
       "      <td>6.175000</td>\n",
       "      <td>27346.600000</td>\n",
       "      <td>3583.700000</td>\n",
       "      <td>3.750000</td>\n",
       "      <td>3.650000</td>\n",
       "      <td>3.600000</td>\n",
       "      <td>3.550000</td>\n",
       "      <td>3.650000</td>\n",
       "    </tr>\n",
       "  </tbody>\n",
       "</table>\n",
       "<p>93 rows × 8 columns</p>\n",
       "</div>"
      ],
      "text/plain": [
       "                                  abv       beer_id    brewer_id  \\\n",
       "beer_style                                                         \n",
       "Altbier                      5.850000  43260.500000   419.500000   \n",
       "American Adjunct Lager       4.872727  12829.909091  2585.909091   \n",
       "American Amber / Red Ale     6.195652  28366.777778  2531.111111   \n",
       "American Amber / Red Lager   4.822857  22277.500000  5620.125000   \n",
       "American Barleywine         10.208333  32457.250000  3744.083333   \n",
       "...                               ...           ...          ...   \n",
       "Tripel                       9.329412  16027.705882  2882.882353   \n",
       "Vienna Lager                 4.985714  19497.750000  6180.750000   \n",
       "Weizenbock                   8.350000  19540.500000   250.000000   \n",
       "Wheatwine                   11.075000  36980.000000   629.600000   \n",
       "Witbier                      6.175000  27346.600000  3583.700000   \n",
       "\n",
       "                            review_appearance  review_aroma  review_overall  \\\n",
       "beer_style                                                                    \n",
       "Altbier                              4.000000      3.750000        4.000000   \n",
       "American Adjunct Lager               2.954545      2.613636        3.272727   \n",
       "American Amber / Red Ale             3.740741      3.592593        3.870370   \n",
       "American Amber / Red Lager           3.437500      3.312500        3.375000   \n",
       "American Barleywine                  3.958333      3.937500        3.729167   \n",
       "...                                       ...           ...             ...   \n",
       "Tripel                               4.264706      4.088235        3.970588   \n",
       "Vienna Lager                         3.500000      3.250000        3.375000   \n",
       "Weizenbock                           4.000000      3.750000        4.250000   \n",
       "Wheatwine                            3.800000      4.000000        3.500000   \n",
       "Witbier                              3.750000      3.650000        3.600000   \n",
       "\n",
       "                            review_palate  review_taste  \n",
       "beer_style                                               \n",
       "Altbier                          3.750000      4.000000  \n",
       "American Adjunct Lager           2.909091      2.750000  \n",
       "American Amber / Red Ale         3.555556      3.777778  \n",
       "American Amber / Red Lager       3.187500      3.125000  \n",
       "American Barleywine              3.895833      3.937500  \n",
       "...                                   ...           ...  \n",
       "Tripel                           3.911765      4.176471  \n",
       "Vienna Lager                     3.562500      3.312500  \n",
       "Weizenbock                       4.250000      4.250000  \n",
       "Wheatwine                        4.000000      3.700000  \n",
       "Witbier                          3.550000      3.650000  \n",
       "\n",
       "[93 rows x 8 columns]"
      ]
     },
     "execution_count": 6,
     "metadata": {},
     "output_type": "execute_result"
    }
   ],
   "source": []
  },
  {
   "cell_type": "markdown",
   "metadata": {
    "slideshow": {
     "slide_type": "fragment"
    }
   },
   "source": [
    "Or functions that can operate on Pandas or Numpy objects:"
   ]
  },
  {
   "cell_type": "code",
   "execution_count": 7,
   "metadata": {
    "collapsed": false,
    "slideshow": {
     "slide_type": "-"
    }
   },
   "outputs": [
    {
     "data": {
      "text/html": [
       "<div>\n",
       "<table border=\"1\" class=\"dataframe\">\n",
       "  <thead>\n",
       "    <tr style=\"text-align: right;\">\n",
       "      <th></th>\n",
       "      <th>abv</th>\n",
       "      <th>beer_id</th>\n",
       "      <th>brewer_id</th>\n",
       "      <th>review_appearance</th>\n",
       "      <th>review_aroma</th>\n",
       "      <th>review_overall</th>\n",
       "      <th>review_palate</th>\n",
       "      <th>review_taste</th>\n",
       "    </tr>\n",
       "    <tr>\n",
       "      <th>beer_style</th>\n",
       "      <th></th>\n",
       "      <th></th>\n",
       "      <th></th>\n",
       "      <th></th>\n",
       "      <th></th>\n",
       "      <th></th>\n",
       "      <th></th>\n",
       "      <th></th>\n",
       "    </tr>\n",
       "  </thead>\n",
       "  <tbody>\n",
       "    <tr>\n",
       "      <th>Altbier</th>\n",
       "      <td>5.850000</td>\n",
       "      <td>43260.500000</td>\n",
       "      <td>419.500000</td>\n",
       "      <td>4.000000</td>\n",
       "      <td>3.750000</td>\n",
       "      <td>4.000000</td>\n",
       "      <td>3.750000</td>\n",
       "      <td>4.000000</td>\n",
       "    </tr>\n",
       "    <tr>\n",
       "      <th>American Adjunct Lager</th>\n",
       "      <td>4.872727</td>\n",
       "      <td>12829.909091</td>\n",
       "      <td>2585.909091</td>\n",
       "      <td>2.954545</td>\n",
       "      <td>2.613636</td>\n",
       "      <td>3.272727</td>\n",
       "      <td>2.909091</td>\n",
       "      <td>2.750000</td>\n",
       "    </tr>\n",
       "    <tr>\n",
       "      <th>American Amber / Red Ale</th>\n",
       "      <td>6.195652</td>\n",
       "      <td>28366.777778</td>\n",
       "      <td>2531.111111</td>\n",
       "      <td>3.740741</td>\n",
       "      <td>3.592593</td>\n",
       "      <td>3.870370</td>\n",
       "      <td>3.555556</td>\n",
       "      <td>3.777778</td>\n",
       "    </tr>\n",
       "    <tr>\n",
       "      <th>American Amber / Red Lager</th>\n",
       "      <td>4.822857</td>\n",
       "      <td>22277.500000</td>\n",
       "      <td>5620.125000</td>\n",
       "      <td>3.437500</td>\n",
       "      <td>3.312500</td>\n",
       "      <td>3.375000</td>\n",
       "      <td>3.187500</td>\n",
       "      <td>3.125000</td>\n",
       "    </tr>\n",
       "    <tr>\n",
       "      <th>American Barleywine</th>\n",
       "      <td>10.208333</td>\n",
       "      <td>32457.250000</td>\n",
       "      <td>3744.083333</td>\n",
       "      <td>3.958333</td>\n",
       "      <td>3.937500</td>\n",
       "      <td>3.729167</td>\n",
       "      <td>3.895833</td>\n",
       "      <td>3.937500</td>\n",
       "    </tr>\n",
       "    <tr>\n",
       "      <th>...</th>\n",
       "      <td>...</td>\n",
       "      <td>...</td>\n",
       "      <td>...</td>\n",
       "      <td>...</td>\n",
       "      <td>...</td>\n",
       "      <td>...</td>\n",
       "      <td>...</td>\n",
       "      <td>...</td>\n",
       "    </tr>\n",
       "    <tr>\n",
       "      <th>Tripel</th>\n",
       "      <td>9.329412</td>\n",
       "      <td>16027.705882</td>\n",
       "      <td>2882.882353</td>\n",
       "      <td>4.264706</td>\n",
       "      <td>4.088235</td>\n",
       "      <td>3.970588</td>\n",
       "      <td>3.911765</td>\n",
       "      <td>4.176471</td>\n",
       "    </tr>\n",
       "    <tr>\n",
       "      <th>Vienna Lager</th>\n",
       "      <td>4.985714</td>\n",
       "      <td>19497.750000</td>\n",
       "      <td>6180.750000</td>\n",
       "      <td>3.500000</td>\n",
       "      <td>3.250000</td>\n",
       "      <td>3.375000</td>\n",
       "      <td>3.562500</td>\n",
       "      <td>3.312500</td>\n",
       "    </tr>\n",
       "    <tr>\n",
       "      <th>Weizenbock</th>\n",
       "      <td>8.350000</td>\n",
       "      <td>19540.500000</td>\n",
       "      <td>250.000000</td>\n",
       "      <td>4.000000</td>\n",
       "      <td>3.750000</td>\n",
       "      <td>4.250000</td>\n",
       "      <td>4.250000</td>\n",
       "      <td>4.250000</td>\n",
       "    </tr>\n",
       "    <tr>\n",
       "      <th>Wheatwine</th>\n",
       "      <td>11.075000</td>\n",
       "      <td>36980.000000</td>\n",
       "      <td>629.600000</td>\n",
       "      <td>3.800000</td>\n",
       "      <td>4.000000</td>\n",
       "      <td>3.500000</td>\n",
       "      <td>4.000000</td>\n",
       "      <td>3.700000</td>\n",
       "    </tr>\n",
       "    <tr>\n",
       "      <th>Witbier</th>\n",
       "      <td>6.175000</td>\n",
       "      <td>27346.600000</td>\n",
       "      <td>3583.700000</td>\n",
       "      <td>3.750000</td>\n",
       "      <td>3.650000</td>\n",
       "      <td>3.600000</td>\n",
       "      <td>3.550000</td>\n",
       "      <td>3.650000</td>\n",
       "    </tr>\n",
       "  </tbody>\n",
       "</table>\n",
       "<p>93 rows × 8 columns</p>\n",
       "</div>"
      ],
      "text/plain": [
       "                                  abv       beer_id    brewer_id  \\\n",
       "beer_style                                                         \n",
       "Altbier                      5.850000  43260.500000   419.500000   \n",
       "American Adjunct Lager       4.872727  12829.909091  2585.909091   \n",
       "American Amber / Red Ale     6.195652  28366.777778  2531.111111   \n",
       "American Amber / Red Lager   4.822857  22277.500000  5620.125000   \n",
       "American Barleywine         10.208333  32457.250000  3744.083333   \n",
       "...                               ...           ...          ...   \n",
       "Tripel                       9.329412  16027.705882  2882.882353   \n",
       "Vienna Lager                 4.985714  19497.750000  6180.750000   \n",
       "Weizenbock                   8.350000  19540.500000   250.000000   \n",
       "Wheatwine                   11.075000  36980.000000   629.600000   \n",
       "Witbier                      6.175000  27346.600000  3583.700000   \n",
       "\n",
       "                            review_appearance  review_aroma  review_overall  \\\n",
       "beer_style                                                                    \n",
       "Altbier                              4.000000      3.750000        4.000000   \n",
       "American Adjunct Lager               2.954545      2.613636        3.272727   \n",
       "American Amber / Red Ale             3.740741      3.592593        3.870370   \n",
       "American Amber / Red Lager           3.437500      3.312500        3.375000   \n",
       "American Barleywine                  3.958333      3.937500        3.729167   \n",
       "...                                       ...           ...             ...   \n",
       "Tripel                               4.264706      4.088235        3.970588   \n",
       "Vienna Lager                         3.500000      3.250000        3.375000   \n",
       "Weizenbock                           4.000000      3.750000        4.250000   \n",
       "Wheatwine                            3.800000      4.000000        3.500000   \n",
       "Witbier                              3.750000      3.650000        3.600000   \n",
       "\n",
       "                            review_palate  review_taste  \n",
       "beer_style                                               \n",
       "Altbier                          3.750000      4.000000  \n",
       "American Adjunct Lager           2.909091      2.750000  \n",
       "American Amber / Red Ale         3.555556      3.777778  \n",
       "American Amber / Red Lager       3.187500      3.125000  \n",
       "American Barleywine              3.895833      3.937500  \n",
       "...                                   ...           ...  \n",
       "Tripel                           3.911765      4.176471  \n",
       "Vienna Lager                     3.562500      3.312500  \n",
       "Weizenbock                       4.250000      4.250000  \n",
       "Wheatwine                        4.000000      3.700000  \n",
       "Witbier                          3.550000      3.650000  \n",
       "\n",
       "[93 rows x 8 columns]"
      ]
     },
     "execution_count": 7,
     "metadata": {},
     "output_type": "execute_result"
    }
   ],
   "source": []
  },
  {
   "cell_type": "markdown",
   "metadata": {
    "slideshow": {
     "slide_type": "fragment"
    }
   },
   "source": [
    "And for many common operations, there are also convenience functions:"
   ]
  },
  {
   "cell_type": "code",
   "execution_count": 8,
   "metadata": {
    "collapsed": false,
    "slideshow": {
     "slide_type": "-"
    }
   },
   "outputs": [
    {
     "data": {
      "text/html": [
       "<div>\n",
       "<table border=\"1\" class=\"dataframe\">\n",
       "  <thead>\n",
       "    <tr style=\"text-align: right;\">\n",
       "      <th></th>\n",
       "      <th>abv</th>\n",
       "      <th>beer_id</th>\n",
       "      <th>brewer_id</th>\n",
       "      <th>review_appearance</th>\n",
       "      <th>review_aroma</th>\n",
       "      <th>review_overall</th>\n",
       "      <th>review_palate</th>\n",
       "      <th>review_taste</th>\n",
       "    </tr>\n",
       "    <tr>\n",
       "      <th>beer_style</th>\n",
       "      <th></th>\n",
       "      <th></th>\n",
       "      <th></th>\n",
       "      <th></th>\n",
       "      <th></th>\n",
       "      <th></th>\n",
       "      <th></th>\n",
       "      <th></th>\n",
       "    </tr>\n",
       "  </thead>\n",
       "  <tbody>\n",
       "    <tr>\n",
       "      <th>Altbier</th>\n",
       "      <td>5.850000</td>\n",
       "      <td>43260.500000</td>\n",
       "      <td>419.500000</td>\n",
       "      <td>4.000000</td>\n",
       "      <td>3.750000</td>\n",
       "      <td>4.000000</td>\n",
       "      <td>3.750000</td>\n",
       "      <td>4.000000</td>\n",
       "    </tr>\n",
       "    <tr>\n",
       "      <th>American Adjunct Lager</th>\n",
       "      <td>4.872727</td>\n",
       "      <td>12829.909091</td>\n",
       "      <td>2585.909091</td>\n",
       "      <td>2.954545</td>\n",
       "      <td>2.613636</td>\n",
       "      <td>3.272727</td>\n",
       "      <td>2.909091</td>\n",
       "      <td>2.750000</td>\n",
       "    </tr>\n",
       "    <tr>\n",
       "      <th>American Amber / Red Ale</th>\n",
       "      <td>6.195652</td>\n",
       "      <td>28366.777778</td>\n",
       "      <td>2531.111111</td>\n",
       "      <td>3.740741</td>\n",
       "      <td>3.592593</td>\n",
       "      <td>3.870370</td>\n",
       "      <td>3.555556</td>\n",
       "      <td>3.777778</td>\n",
       "    </tr>\n",
       "    <tr>\n",
       "      <th>American Amber / Red Lager</th>\n",
       "      <td>4.822857</td>\n",
       "      <td>22277.500000</td>\n",
       "      <td>5620.125000</td>\n",
       "      <td>3.437500</td>\n",
       "      <td>3.312500</td>\n",
       "      <td>3.375000</td>\n",
       "      <td>3.187500</td>\n",
       "      <td>3.125000</td>\n",
       "    </tr>\n",
       "    <tr>\n",
       "      <th>American Barleywine</th>\n",
       "      <td>10.208333</td>\n",
       "      <td>32457.250000</td>\n",
       "      <td>3744.083333</td>\n",
       "      <td>3.958333</td>\n",
       "      <td>3.937500</td>\n",
       "      <td>3.729167</td>\n",
       "      <td>3.895833</td>\n",
       "      <td>3.937500</td>\n",
       "    </tr>\n",
       "    <tr>\n",
       "      <th>...</th>\n",
       "      <td>...</td>\n",
       "      <td>...</td>\n",
       "      <td>...</td>\n",
       "      <td>...</td>\n",
       "      <td>...</td>\n",
       "      <td>...</td>\n",
       "      <td>...</td>\n",
       "      <td>...</td>\n",
       "    </tr>\n",
       "    <tr>\n",
       "      <th>Tripel</th>\n",
       "      <td>9.329412</td>\n",
       "      <td>16027.705882</td>\n",
       "      <td>2882.882353</td>\n",
       "      <td>4.264706</td>\n",
       "      <td>4.088235</td>\n",
       "      <td>3.970588</td>\n",
       "      <td>3.911765</td>\n",
       "      <td>4.176471</td>\n",
       "    </tr>\n",
       "    <tr>\n",
       "      <th>Vienna Lager</th>\n",
       "      <td>4.985714</td>\n",
       "      <td>19497.750000</td>\n",
       "      <td>6180.750000</td>\n",
       "      <td>3.500000</td>\n",
       "      <td>3.250000</td>\n",
       "      <td>3.375000</td>\n",
       "      <td>3.562500</td>\n",
       "      <td>3.312500</td>\n",
       "    </tr>\n",
       "    <tr>\n",
       "      <th>Weizenbock</th>\n",
       "      <td>8.350000</td>\n",
       "      <td>19540.500000</td>\n",
       "      <td>250.000000</td>\n",
       "      <td>4.000000</td>\n",
       "      <td>3.750000</td>\n",
       "      <td>4.250000</td>\n",
       "      <td>4.250000</td>\n",
       "      <td>4.250000</td>\n",
       "    </tr>\n",
       "    <tr>\n",
       "      <th>Wheatwine</th>\n",
       "      <td>11.075000</td>\n",
       "      <td>36980.000000</td>\n",
       "      <td>629.600000</td>\n",
       "      <td>3.800000</td>\n",
       "      <td>4.000000</td>\n",
       "      <td>3.500000</td>\n",
       "      <td>4.000000</td>\n",
       "      <td>3.700000</td>\n",
       "    </tr>\n",
       "    <tr>\n",
       "      <th>Witbier</th>\n",
       "      <td>6.175000</td>\n",
       "      <td>27346.600000</td>\n",
       "      <td>3583.700000</td>\n",
       "      <td>3.750000</td>\n",
       "      <td>3.650000</td>\n",
       "      <td>3.600000</td>\n",
       "      <td>3.550000</td>\n",
       "      <td>3.650000</td>\n",
       "    </tr>\n",
       "  </tbody>\n",
       "</table>\n",
       "<p>93 rows × 8 columns</p>\n",
       "</div>"
      ],
      "text/plain": [
       "                                  abv       beer_id    brewer_id  \\\n",
       "beer_style                                                         \n",
       "Altbier                      5.850000  43260.500000   419.500000   \n",
       "American Adjunct Lager       4.872727  12829.909091  2585.909091   \n",
       "American Amber / Red Ale     6.195652  28366.777778  2531.111111   \n",
       "American Amber / Red Lager   4.822857  22277.500000  5620.125000   \n",
       "American Barleywine         10.208333  32457.250000  3744.083333   \n",
       "...                               ...           ...          ...   \n",
       "Tripel                       9.329412  16027.705882  2882.882353   \n",
       "Vienna Lager                 4.985714  19497.750000  6180.750000   \n",
       "Weizenbock                   8.350000  19540.500000   250.000000   \n",
       "Wheatwine                   11.075000  36980.000000   629.600000   \n",
       "Witbier                      6.175000  27346.600000  3583.700000   \n",
       "\n",
       "                            review_appearance  review_aroma  review_overall  \\\n",
       "beer_style                                                                    \n",
       "Altbier                              4.000000      3.750000        4.000000   \n",
       "American Adjunct Lager               2.954545      2.613636        3.272727   \n",
       "American Amber / Red Ale             3.740741      3.592593        3.870370   \n",
       "American Amber / Red Lager           3.437500      3.312500        3.375000   \n",
       "American Barleywine                  3.958333      3.937500        3.729167   \n",
       "...                                       ...           ...             ...   \n",
       "Tripel                               4.264706      4.088235        3.970588   \n",
       "Vienna Lager                         3.500000      3.250000        3.375000   \n",
       "Weizenbock                           4.000000      3.750000        4.250000   \n",
       "Wheatwine                            3.800000      4.000000        3.500000   \n",
       "Witbier                              3.750000      3.650000        3.600000   \n",
       "\n",
       "                            review_palate  review_taste  \n",
       "beer_style                                               \n",
       "Altbier                          3.750000      4.000000  \n",
       "American Adjunct Lager           2.909091      2.750000  \n",
       "American Amber / Red Ale         3.555556      3.777778  \n",
       "American Amber / Red Lager       3.187500      3.125000  \n",
       "American Barleywine              3.895833      3.937500  \n",
       "...                                   ...           ...  \n",
       "Tripel                           3.911765      4.176471  \n",
       "Vienna Lager                     3.562500      3.312500  \n",
       "Weizenbock                       4.250000      4.250000  \n",
       "Wheatwine                        4.000000      3.700000  \n",
       "Witbier                          3.550000      3.650000  \n",
       "\n",
       "[93 rows x 8 columns]"
      ]
     },
     "execution_count": 8,
     "metadata": {},
     "output_type": "execute_result"
    }
   ],
   "source": []
  },
  {
   "cell_type": "code",
   "execution_count": null,
   "metadata": {
    "collapsed": true
   },
   "outputs": [],
   "source": []
  },
  {
   "cell_type": "markdown",
   "metadata": {
    "slideshow": {
     "slide_type": "subslide"
    }
   },
   "source": [
    "By default the aggregation functions get applied to all columns, but we can subset:"
   ]
  },
  {
   "cell_type": "code",
   "execution_count": 9,
   "metadata": {
    "collapsed": false
   },
   "outputs": [
    {
     "data": {
      "text/plain": [
       "['review_appearance',\n",
       " 'review_aroma',\n",
       " 'review_overall',\n",
       " 'review_palate',\n",
       " 'review_taste']"
      ]
     },
     "execution_count": 9,
     "metadata": {},
     "output_type": "execute_result"
    }
   ],
   "source": [
    "review_cols = [c for c in df.columns if c[0:6] == 'review']\n",
    "review_cols"
   ]
  },
  {
   "cell_type": "code",
   "execution_count": null,
   "metadata": {
    "collapsed": true
   },
   "outputs": [],
   "source": []
  },
  {
   "cell_type": "markdown",
   "metadata": {
    "slideshow": {
     "slide_type": "fragment"
    }
   },
   "source": [
    "`.` attribute lookup works as well."
   ]
  },
  {
   "cell_type": "code",
   "execution_count": null,
   "metadata": {
    "collapsed": true
   },
   "outputs": [],
   "source": []
  },
  {
   "cell_type": "code",
   "execution_count": null,
   "metadata": {
    "collapsed": true
   },
   "outputs": [],
   "source": []
  },
  {
   "cell_type": "markdown",
   "metadata": {
    "slideshow": {
     "slide_type": "subslide"
    }
   },
   "source": [
    "### Example\n",
    "\n",
    "Find the `beer_styles` with the greatest variance in `abv`:"
   ]
  },
  {
   "cell_type": "code",
   "execution_count": null,
   "metadata": {
    "collapsed": true
   },
   "outputs": [],
   "source": []
  },
  {
   "cell_type": "code",
   "execution_count": null,
   "metadata": {
    "collapsed": true
   },
   "outputs": [],
   "source": []
  },
  {
   "cell_type": "markdown",
   "metadata": {
    "slideshow": {
     "slide_type": "subslide"
    }
   },
   "source": [
    "### Some more complex examples"
   ]
  },
  {
   "cell_type": "markdown",
   "metadata": {
    "slideshow": {
     "slide_type": "fragment"
    }
   },
   "source": [
    "Multiple aggregations on one column"
   ]
  },
  {
   "cell_type": "code",
   "execution_count": null,
   "metadata": {
    "collapsed": true
   },
   "outputs": [],
   "source": []
  },
  {
   "cell_type": "code",
   "execution_count": null,
   "metadata": {
    "collapsed": true
   },
   "outputs": [],
   "source": []
  },
  {
   "cell_type": "markdown",
   "metadata": {
    "slideshow": {
     "slide_type": "fragment"
    }
   },
   "source": [
    "Single aggregation on multiple columns"
   ]
  },
  {
   "cell_type": "code",
   "execution_count": null,
   "metadata": {
    "collapsed": true
   },
   "outputs": [],
   "source": []
  },
  {
   "cell_type": "code",
   "execution_count": null,
   "metadata": {
    "collapsed": true
   },
   "outputs": [],
   "source": []
  },
  {
   "cell_type": "markdown",
   "metadata": {
    "slideshow": {
     "slide_type": "fragment"
    }
   },
   "source": [
    "Multiple aggregations on multiple columns"
   ]
  },
  {
   "cell_type": "code",
   "execution_count": null,
   "metadata": {
    "collapsed": true
   },
   "outputs": [],
   "source": []
  },
  {
   "cell_type": "markdown",
   "metadata": {
    "slideshow": {
     "slide_type": "fragment"
    }
   },
   "source": [
    "Hierarchical Indexes in the columns can be awkward to work with, so you can move a level to the Index with `.stack`:"
   ]
  },
  {
   "cell_type": "code",
   "execution_count": null,
   "metadata": {
    "collapsed": true
   },
   "outputs": [],
   "source": []
  },
  {
   "cell_type": "markdown",
   "metadata": {
    "slideshow": {
     "slide_type": "fragment"
    }
   },
   "source": [
    "You can group by **levels** of a MultiIndex:"
   ]
  },
  {
   "cell_type": "code",
   "execution_count": null,
   "metadata": {
    "collapsed": true
   },
   "outputs": [],
   "source": []
  },
  {
   "cell_type": "code",
   "execution_count": null,
   "metadata": {
    "collapsed": true
   },
   "outputs": [],
   "source": []
  },
  {
   "cell_type": "markdown",
   "metadata": {
    "slideshow": {
     "slide_type": "fragment"
    }
   },
   "source": [
    "Group by **multiple** columns"
   ]
  },
  {
   "cell_type": "code",
   "execution_count": null,
   "metadata": {
    "collapsed": true
   },
   "outputs": [],
   "source": []
  },
  {
   "cell_type": "code",
   "execution_count": null,
   "metadata": {
    "collapsed": true
   },
   "outputs": [],
   "source": []
  },
  {
   "cell_type": "markdown",
   "metadata": {
    "slideshow": {
     "slide_type": "subslide"
    }
   },
   "source": [
    "### Example\n",
    "Find the relationship between `review` length (the text column) and average `review_overall`"
   ]
  },
  {
   "cell_type": "code",
   "execution_count": null,
   "metadata": {
    "collapsed": true
   },
   "outputs": [],
   "source": []
  },
  {
   "cell_type": "code",
   "execution_count": null,
   "metadata": {
    "collapsed": true
   },
   "outputs": [],
   "source": []
  },
  {
   "cell_type": "markdown",
   "metadata": {
    "slideshow": {
     "slide_type": "fragment"
    }
   },
   "source": [
    "<div class=\"alert alert-info\">\n",
    "  <b>Bonus exercise</b>\n",
    "</div>\n",
    "\n",
    "- Try grouping by the number of words\n",
    "- Try grouping by the number of sentences\n",
    "\n",
    "_Hint_: `str.count` accepts a regular expression..."
   ]
  },
  {
   "cell_type": "markdown",
   "metadata": {
    "slideshow": {
     "slide_type": "subslide"
    }
   },
   "source": [
    "### Example\n",
    "\n",
    "Which **brewer** (`brewer_id`) has the largest gap between the min and max `review_overall` for two of their beers?"
   ]
  },
  {
   "cell_type": "markdown",
   "metadata": {
    "slideshow": {
     "slide_type": "fragment"
    }
   },
   "source": [
    "_Hint_: You'll need to do this in two steps:\n",
    "    1. Find the average `review_overall` by `brewer_id` and `beer_name`.\n",
    "    2. Find the difference between the max and min by brewer (rembember `.groupby(level=)`)"
   ]
  },
  {
   "cell_type": "code",
   "execution_count": null,
   "metadata": {
    "collapsed": true
   },
   "outputs": [],
   "source": []
  },
  {
   "cell_type": "code",
   "execution_count": null,
   "metadata": {
    "collapsed": true
   },
   "outputs": [],
   "source": []
  },
  {
   "cell_type": "markdown",
   "metadata": {
    "slideshow": {
     "slide_type": "subslide"
    }
   },
   "source": [
    "### Complex Example\n",
    "\n",
    "Create a more aggregated \"kind\" of beer, less detailed than `style`"
   ]
  },
  {
   "cell_type": "code",
   "execution_count": 130,
   "metadata": {
    "collapsed": false,
    "slideshow": {
     "slide_type": "fragment"
    }
   },
   "outputs": [
    {
     "data": {
      "text/plain": [
       "0                    american stout\n",
       "1                   american porter\n",
       "2                   german pilsener\n",
       "3    american double / imperial ipa\n",
       "4           american pale ale (apa)\n",
       "Name: beer_style, dtype: object"
      ]
     },
     "execution_count": 130,
     "metadata": {},
     "output_type": "execute_result"
    }
   ],
   "source": [
    "kind = df['beer_style'].str.lower()\\\n",
    "    .replace({'india pale ale': 'ipa', 'american pale ale': 'apa'})\n",
    "kind.head()"
   ]
  },
  {
   "cell_type": "code",
   "execution_count": 49,
   "metadata": {
    "collapsed": false,
    "slideshow": {
     "slide_type": "fragment"
    }
   },
   "outputs": [],
   "source": [
    "kinds = ['ipa', 'apa', 'amber ale', 'rye', 'scotch', 'stout', \n",
    "         'barleywine', 'porter', 'brown ale', 'lager', 'pilsner',\n",
    "         'tripel', 'bitter', 'farmhouse', 'malt liquour', 'rice']"
   ]
  },
  {
   "cell_type": "code",
   "execution_count": null,
   "metadata": {
    "collapsed": true
   },
   "outputs": [],
   "source": []
  },
  {
   "cell_type": "code",
   "execution_count": null,
   "metadata": {
    "collapsed": true
   },
   "outputs": [],
   "source": []
  },
  {
   "cell_type": "markdown",
   "metadata": {
    "slideshow": {
     "slide_type": "fragment"
    }
   },
   "source": [
    "#### Bonus\n",
    "We can use [regular expressions](https://docs.python.org/3/library/re.html) to do this in one (convoluted) line..."
   ]
  },
  {
   "cell_type": "code",
   "execution_count": 107,
   "metadata": {
    "collapsed": false
   },
   "outputs": [
    {
     "name": "stderr",
     "output_type": "stream",
     "text": [
      "/Users/kfor/anaconda/lib/python3.5/site-packages/ipykernel/__main__.py:3: FutureWarning: currently extract(expand=None) means expand=False (return Index/Series/DataFrame) but in a future version of pandas this will be changed to expand=True (return DataFrame)\n",
      "  app.launch_new_instance()\n"
     ]
    },
    {
     "data": {
      "text/plain": [
       "0     stout\n",
       "1    porter\n",
       "2     other\n",
       "3       ipa\n",
       "4       apa\n",
       "dtype: object"
      ]
     },
     "execution_count": 107,
     "metadata": {},
     "output_type": "execute_result"
    }
   ],
   "source": [
    "expr = '|'.join(['(?P<{name}>{pat})'.format(pat=kind, name=kind.replace(' ', '_')) \n",
    "                 for kind in kinds])\n",
    "kind2 = df['beer_style'].str.lower()\\\n",
    "    .replace({'india pale ale': 'ipa', 'american pale ale': 'apa'})\\\n",
    "    .str.extract(expr).fillna('').sum(1)\\\n",
    "    .str.lower().replace('','other')\n",
    "kind2.head()"
   ]
  },
  {
   "cell_type": "markdown",
   "metadata": {
    "slideshow": {
     "slide_type": "fragment"
    }
   },
   "source": [
    "### Back to the example..."
   ]
  },
  {
   "cell_type": "markdown",
   "metadata": {},
   "source": [
    "Find the highest rate \"kind\" of beer"
   ]
  },
  {
   "cell_type": "code",
   "execution_count": null,
   "metadata": {
    "collapsed": true
   },
   "outputs": [],
   "source": []
  },
  {
   "cell_type": "code",
   "execution_count": null,
   "metadata": {
    "collapsed": true
   },
   "outputs": [],
   "source": []
  },
  {
   "cell_type": "markdown",
   "metadata": {
    "slideshow": {
     "slide_type": "fragment"
    }
   },
   "source": [
    "How are the different kinds of beers rated for each brewer?"
   ]
  },
  {
   "cell_type": "code",
   "execution_count": null,
   "metadata": {
    "collapsed": true
   },
   "outputs": [],
   "source": []
  },
  {
   "cell_type": "code",
   "execution_count": null,
   "metadata": {
    "collapsed": true
   },
   "outputs": [],
   "source": []
  },
  {
   "cell_type": "markdown",
   "metadata": {
    "slideshow": {
     "slide_type": "fragment"
    }
   },
   "source": [
    "Find the number of beers of each kind by brewer:"
   ]
  },
  {
   "cell_type": "code",
   "execution_count": null,
   "metadata": {
    "collapsed": true
   },
   "outputs": [],
   "source": []
  },
  {
   "cell_type": "code",
   "execution_count": null,
   "metadata": {
    "collapsed": true
   },
   "outputs": [],
   "source": []
  },
  {
   "cell_type": "markdown",
   "metadata": {
    "slideshow": {
     "slide_type": "slide"
    }
   },
   "source": [
    "We've seen a lot of permutations among number of groupers, number of columns to aggregate, and number of aggregators.\n",
    "\n",
    "\n",
    "In fact, the `.agg`, which returns one row per group, is just one kind of way to combine the results. The three ways are\n",
    "\n",
    "- `agg`: one row per results\n",
    "- `transform`: identically shaped output as input\n",
    "- `apply`: anything goes"
   ]
  },
  {
   "cell_type": "markdown",
   "metadata": {
    "slideshow": {
     "slide_type": "slide"
    }
   },
   "source": [
    "### Transform\n",
    "\n",
    "Combined `Series`/`DataFrame` is the same shape as the input. "
   ]
  },
  {
   "cell_type": "markdown",
   "metadata": {
    "slideshow": {
     "slide_type": "fragment"
    }
   },
   "source": [
    "For example, say you want to standardize the reviews by subtracting the mean."
   ]
  },
  {
   "cell_type": "code",
   "execution_count": null,
   "metadata": {
    "collapsed": true
   },
   "outputs": [],
   "source": []
  },
  {
   "cell_type": "code",
   "execution_count": null,
   "metadata": {
    "collapsed": true
   },
   "outputs": [],
   "source": []
  },
  {
   "cell_type": "markdown",
   "metadata": {
    "slideshow": {
     "slide_type": "fragment"
    }
   },
   "source": [
    "We can do this at the *person* level with `groupby` and `transform`."
   ]
  },
  {
   "cell_type": "code",
   "execution_count": null,
   "metadata": {
    "collapsed": true
   },
   "outputs": [],
   "source": []
  },
  {
   "cell_type": "code",
   "execution_count": null,
   "metadata": {
    "collapsed": true
   },
   "outputs": [],
   "source": []
  },
  {
   "cell_type": "markdown",
   "metadata": {
    "slideshow": {
     "slide_type": "fragment"
    }
   },
   "source": [
    "This uses the *group* means instead of the overall means"
   ]
  },
  {
   "cell_type": "code",
   "execution_count": 145,
   "metadata": {
    "collapsed": false
   },
   "outputs": [
    {
     "data": {
      "text/html": [
       "<div>\n",
       "<table border=\"1\" class=\"dataframe\">\n",
       "  <thead>\n",
       "    <tr style=\"text-align: right;\">\n",
       "      <th></th>\n",
       "      <th>profile_name</th>\n",
       "      <th>review_overall</th>\n",
       "      <th>review_overall_demeaned</th>\n",
       "    </tr>\n",
       "  </thead>\n",
       "  <tbody>\n",
       "    <tr>\n",
       "      <th>140</th>\n",
       "      <td>05Harley</td>\n",
       "      <td>4.0</td>\n",
       "      <td>0.0000</td>\n",
       "    </tr>\n",
       "    <tr>\n",
       "      <th>461</th>\n",
       "      <td>ADZA</td>\n",
       "      <td>3.5</td>\n",
       "      <td>0.0000</td>\n",
       "    </tr>\n",
       "    <tr>\n",
       "      <th>23</th>\n",
       "      <td>ALeF</td>\n",
       "      <td>5.0</td>\n",
       "      <td>0.0000</td>\n",
       "    </tr>\n",
       "    <tr>\n",
       "      <th>789</th>\n",
       "      <td>ATPete</td>\n",
       "      <td>3.0</td>\n",
       "      <td>-0.8125</td>\n",
       "    </tr>\n",
       "    <tr>\n",
       "      <th>855</th>\n",
       "      <td>ATPete</td>\n",
       "      <td>2.5</td>\n",
       "      <td>-1.3125</td>\n",
       "    </tr>\n",
       "    <tr>\n",
       "      <th>851</th>\n",
       "      <td>ATPete</td>\n",
       "      <td>4.0</td>\n",
       "      <td>0.1875</td>\n",
       "    </tr>\n",
       "    <tr>\n",
       "      <th>819</th>\n",
       "      <td>ATPete</td>\n",
       "      <td>4.5</td>\n",
       "      <td>0.6875</td>\n",
       "    </tr>\n",
       "    <tr>\n",
       "      <th>808</th>\n",
       "      <td>ATPete</td>\n",
       "      <td>4.0</td>\n",
       "      <td>0.1875</td>\n",
       "    </tr>\n",
       "    <tr>\n",
       "      <th>802</th>\n",
       "      <td>ATPete</td>\n",
       "      <td>4.0</td>\n",
       "      <td>0.1875</td>\n",
       "    </tr>\n",
       "    <tr>\n",
       "      <th>773</th>\n",
       "      <td>ATPete</td>\n",
       "      <td>5.0</td>\n",
       "      <td>1.1875</td>\n",
       "    </tr>\n",
       "  </tbody>\n",
       "</table>\n",
       "</div>"
      ],
      "text/plain": [
       "    profile_name  review_overall  review_overall_demeaned\n",
       "140     05Harley             4.0                   0.0000\n",
       "461         ADZA             3.5                   0.0000\n",
       "23          ALeF             5.0                   0.0000\n",
       "789       ATPete             3.0                  -0.8125\n",
       "855       ATPete             2.5                  -1.3125\n",
       "851       ATPete             4.0                   0.1875\n",
       "819       ATPete             4.5                   0.6875\n",
       "808       ATPete             4.0                   0.1875\n",
       "802       ATPete             4.0                   0.1875\n",
       "773       ATPete             5.0                   1.1875"
      ]
     },
     "execution_count": 145,
     "metadata": {},
     "output_type": "execute_result"
    }
   ],
   "source": [
    "df[['profile_name','review_overall','review_overall_demeaned']]\\\n",
    "    .sort_values('profile_name').head(10)"
   ]
  },
  {
   "cell_type": "markdown",
   "metadata": {
    "slideshow": {
     "slide_type": "subslide"
    }
   },
   "source": [
    "## Apply\n",
    "\n",
    "- `.apply()` can return all sorts of things, doesn't have to be the same shape...\n",
    "- Lots of uses, too many to go into..."
   ]
  },
  {
   "cell_type": "code",
   "execution_count": 146,
   "metadata": {
    "collapsed": true,
    "slideshow": {
     "slide_type": "fragment"
    }
   },
   "outputs": [],
   "source": [
    "def something(x):\n",
    "    return x['review_appearance'].max() - x['review_aroma'].min()"
   ]
  },
  {
   "cell_type": "code",
   "execution_count": null,
   "metadata": {
    "collapsed": true
   },
   "outputs": [],
   "source": []
  },
  {
   "cell_type": "code",
   "execution_count": null,
   "metadata": {
    "collapsed": true
   },
   "outputs": [],
   "source": []
  },
  {
   "cell_type": "markdown",
   "metadata": {
    "slideshow": {
     "slide_type": "fragment"
    }
   },
   "source": [
    "Or more succinctly as a `lambda` function:"
   ]
  },
  {
   "cell_type": "code",
   "execution_count": null,
   "metadata": {
    "collapsed": true
   },
   "outputs": [],
   "source": []
  },
  {
   "cell_type": "code",
   "execution_count": null,
   "metadata": {
    "collapsed": true
   },
   "outputs": [],
   "source": []
  },
  {
   "cell_type": "markdown",
   "metadata": {
    "slideshow": {
     "slide_type": "slide"
    }
   },
   "source": [
    "## References\n",
    "\n",
    "Slide materials inspired by and adapted from [Chris Fonnesbeck](https://github.com/fonnesbeck/statistical-analysis-python-tutorial) and [Tom Augspurger](https://github.com/TomAugspurger/pydata-chi-h2t)"
   ]
  }
 ],
 "metadata": {
  "anaconda-cloud": {},
  "kernelspec": {
   "display_name": "Python [conda root]",
   "language": "python",
   "name": "conda-root-py"
  },
  "language_info": {
   "codemirror_mode": {
    "name": "ipython",
    "version": 3
   },
   "file_extension": ".py",
   "mimetype": "text/x-python",
   "name": "python",
   "nbconvert_exporter": "python",
   "pygments_lexer": "ipython3",
   "version": "3.5.2"
  },
  "livereveal": {
   "height": 768,
   "scroll": true,
   "slideNumber": true,
   "start_slideshow_at": "selected",
   "theme": "league",
   "width": 1024
  }
 },
 "nbformat": 4,
 "nbformat_minor": 1
}
