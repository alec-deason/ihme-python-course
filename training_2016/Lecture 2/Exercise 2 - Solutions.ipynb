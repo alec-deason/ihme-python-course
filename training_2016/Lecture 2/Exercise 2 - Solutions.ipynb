{
 "cells": [
  {
   "cell_type": "markdown",
   "metadata": {},
   "source": [
    "# Exercise 2"
   ]
  },
  {
   "cell_type": "markdown",
   "metadata": {},
   "source": [
    "### Part 1 - Lists"
   ]
  },
  {
   "cell_type": "markdown",
   "metadata": {},
   "source": [
    "Use a loop to make a list of the integers from 5 to 10"
   ]
  },
  {
   "cell_type": "code",
   "execution_count": 1,
   "metadata": {
    "collapsed": false
   },
   "outputs": [
    {
     "data": {
      "text/plain": [
       "[5, 6, 7, 8, 9, 10]"
      ]
     },
     "execution_count": 1,
     "metadata": {},
     "output_type": "execute_result"
    }
   ],
   "source": [
    "int_list = []\n",
    "for i in range(5,11):\n",
    "    int_list.append(i)\n",
    "int_list"
   ]
  },
  {
   "cell_type": "markdown",
   "metadata": {},
   "source": [
    "Use a list comprehension to make a list of the integers from 20 to 30"
   ]
  },
  {
   "cell_type": "code",
   "execution_count": 2,
   "metadata": {
    "collapsed": false
   },
   "outputs": [
    {
     "data": {
      "text/plain": [
       "[20, 21, 22, 23, 24, 25, 26, 27, 28, 29, 30]"
      ]
     },
     "execution_count": 2,
     "metadata": {},
     "output_type": "execute_result"
    }
   ],
   "source": [
    "int_list_2 = [i for i in range(20,31)]\n",
    "int_list_2"
   ]
  },
  {
   "cell_type": "markdown",
   "metadata": {},
   "source": [
    "Print just the 3rd, 4th, and 5th integers in that array"
   ]
  },
  {
   "cell_type": "code",
   "execution_count": 3,
   "metadata": {
    "collapsed": false
   },
   "outputs": [
    {
     "name": "stdout",
     "output_type": "stream",
     "text": [
      "[22, 23, 24]\n"
     ]
    }
   ],
   "source": [
    "print(int_list_2[2:5])"
   ]
  },
  {
   "cell_type": "markdown",
   "metadata": {},
   "source": [
    "### Part 2 - Dictionaries and functions"
   ]
  },
  {
   "cell_type": "markdown",
   "metadata": {},
   "source": [
    "Make a dictionary that contains the number of characters for each word in a list\n",
    "\n",
    "E.g.\n",
    "        \n",
    "       ['hello', 'world!'] -> {'hello': 5, 'world!': 6}"
   ]
  },
  {
   "cell_type": "code",
   "execution_count": 4,
   "metadata": {
    "collapsed": true
   },
   "outputs": [],
   "source": [
    "word_list = ['Mercury', 'Venus', 'Earth', 'Mars', 'Jupiter', 'Saturn', 'Uranus', 'Neptune']"
   ]
  },
  {
   "cell_type": "code",
   "execution_count": 5,
   "metadata": {
    "collapsed": false
   },
   "outputs": [
    {
     "name": "stdout",
     "output_type": "stream",
     "text": [
      "{'Mercury': 7, 'Mars': 4, 'Neptune': 7, 'Saturn': 6, 'Uranus': 6, 'Earth': 5, 'Jupiter': 7, 'Venus': 5}\n"
     ]
    }
   ],
   "source": [
    "num_chars = {}\n",
    "for w in word_list:\n",
    "    num_chars[w] = len(w)\n",
    "print(num_chars)"
   ]
  },
  {
   "cell_type": "markdown",
   "metadata": {},
   "source": [
    "Add poor Pluto back to the list"
   ]
  },
  {
   "cell_type": "code",
   "execution_count": 6,
   "metadata": {
    "collapsed": false
   },
   "outputs": [
    {
     "data": {
      "text/plain": [
       "['Mercury',\n",
       " 'Venus',\n",
       " 'Earth',\n",
       " 'Mars',\n",
       " 'Jupiter',\n",
       " 'Saturn',\n",
       " 'Uranus',\n",
       " 'Neptune',\n",
       " 'Pluto']"
      ]
     },
     "execution_count": 6,
     "metadata": {},
     "output_type": "execute_result"
    }
   ],
   "source": [
    "word_list.append('Pluto')\n",
    "word_list"
   ]
  },
  {
   "cell_type": "markdown",
   "metadata": {},
   "source": [
    "Now try to make up the lookup for the number of characters using a comprehension instead of a loop"
   ]
  },
  {
   "cell_type": "code",
   "execution_count": 7,
   "metadata": {
    "collapsed": false
   },
   "outputs": [
    {
     "data": {
      "text/plain": [
       "{'Earth': 5,\n",
       " 'Jupiter': 7,\n",
       " 'Mars': 4,\n",
       " 'Mercury': 7,\n",
       " 'Neptune': 7,\n",
       " 'Pluto': 5,\n",
       " 'Saturn': 6,\n",
       " 'Uranus': 6,\n",
       " 'Venus': 5}"
      ]
     },
     "execution_count": 7,
     "metadata": {},
     "output_type": "execute_result"
    }
   ],
   "source": [
    "dict_comprehension = {w: len(w) for w in word_list}\n",
    "dict_comprehension"
   ]
  },
  {
   "cell_type": "markdown",
   "metadata": {},
   "source": [
    "Count the total number of characters in the list using a loop"
   ]
  },
  {
   "cell_type": "code",
   "execution_count": 8,
   "metadata": {
    "collapsed": false
   },
   "outputs": [
    {
     "name": "stdout",
     "output_type": "stream",
     "text": [
      "52\n"
     ]
    }
   ],
   "source": [
    "total = 0\n",
    "for w in word_list:\n",
    "    total += dict_comprehension[w]\n",
    "print(total)"
   ]
  },
  {
   "cell_type": "markdown",
   "metadata": {},
   "source": [
    "Can you count the total number of characters using just `dict_comprehension` and no loops?"
   ]
  },
  {
   "cell_type": "markdown",
   "metadata": {},
   "source": [
    "_Hint_: Inspect the `dict_comprehension` object - does it contain any methods or properties that might help you?"
   ]
  },
  {
   "cell_type": "code",
   "execution_count": 9,
   "metadata": {
    "collapsed": false
   },
   "outputs": [
    {
     "data": {
      "text/plain": [
       "['__class__',\n",
       " '__contains__',\n",
       " '__delattr__',\n",
       " '__delitem__',\n",
       " '__dir__',\n",
       " '__doc__',\n",
       " '__eq__',\n",
       " '__format__',\n",
       " '__ge__',\n",
       " '__getattribute__',\n",
       " '__getitem__',\n",
       " '__gt__',\n",
       " '__hash__',\n",
       " '__init__',\n",
       " '__iter__',\n",
       " '__le__',\n",
       " '__len__',\n",
       " '__lt__',\n",
       " '__ne__',\n",
       " '__new__',\n",
       " '__reduce__',\n",
       " '__reduce_ex__',\n",
       " '__repr__',\n",
       " '__setattr__',\n",
       " '__setitem__',\n",
       " '__sizeof__',\n",
       " '__str__',\n",
       " '__subclasshook__',\n",
       " 'clear',\n",
       " 'copy',\n",
       " 'fromkeys',\n",
       " 'get',\n",
       " 'items',\n",
       " 'keys',\n",
       " 'pop',\n",
       " 'popitem',\n",
       " 'setdefault',\n",
       " 'update',\n",
       " 'values']"
      ]
     },
     "execution_count": 9,
     "metadata": {},
     "output_type": "execute_result"
    }
   ],
   "source": [
    "dir(dict_comprehension)"
   ]
  },
  {
   "cell_type": "code",
   "execution_count": 10,
   "metadata": {
    "collapsed": false
   },
   "outputs": [
    {
     "data": {
      "text/plain": [
       "52"
      ]
     },
     "execution_count": 10,
     "metadata": {},
     "output_type": "execute_result"
    }
   ],
   "source": [
    "sum(dict_comprehension.values())"
   ]
  },
  {
   "cell_type": "markdown",
   "metadata": {},
   "source": [
    "### Part 3 - Factors\n",
    "\n",
    "Design a function which returns a list containing all of the [factors](https://en.wikipedia.org/wiki/Integer_factorization) of an integer\n",
    "\n",
    "E.g.: \n",
    "\n",
    "        10 -> [1, 2, 5, 10]\n",
    "        50 -> [1, 2, 5, 10, 25, 50]"
   ]
  },
  {
   "cell_type": "code",
   "execution_count": 11,
   "metadata": {
    "collapsed": true
   },
   "outputs": [],
   "source": [
    "def factors(n):\n",
    "    ''' Return a list containing the factors for integer n '''\n",
    "    fac = []\n",
    "    for i in range(1,n+1):\n",
    "        if n % i == 0:\n",
    "            fac.append(i)\n",
    "    return fac"
   ]
  },
  {
   "cell_type": "code",
   "execution_count": 12,
   "metadata": {
    "collapsed": false
   },
   "outputs": [
    {
     "data": {
      "text/plain": [
       "[1, 2, 5, 10]"
      ]
     },
     "execution_count": 12,
     "metadata": {},
     "output_type": "execute_result"
    }
   ],
   "source": [
    "factors(10)"
   ]
  },
  {
   "cell_type": "markdown",
   "metadata": {},
   "source": [
    "**Bonus**: Can you do it in one line?"
   ]
  },
  {
   "cell_type": "code",
   "execution_count": 13,
   "metadata": {
    "collapsed": true
   },
   "outputs": [],
   "source": [
    "def one_line_factors(n):\n",
    "    ''' Return a list containing the factors for integer n '''\n",
    "    return [i for i in range(1,n+1) if n % i == 0]"
   ]
  },
  {
   "cell_type": "code",
   "execution_count": 14,
   "metadata": {
    "collapsed": false
   },
   "outputs": [
    {
     "data": {
      "text/plain": [
       "[1, 2, 5, 10]"
      ]
     },
     "execution_count": 14,
     "metadata": {},
     "output_type": "execute_result"
    }
   ],
   "source": [
    "one_line_factors(10)"
   ]
  },
  {
   "cell_type": "markdown",
   "metadata": {},
   "source": [
    "### Part 4 - Fibonacci Sequence\n",
    "\n",
    "Create a function which will return the first `n` numbers in the [Fibonacci sequence](https://en.wikipedia.org/wiki/Fibonacci_number) starting at 1 (1, 1, 2, 3, 5, 8, 13, ...)"
   ]
  },
  {
   "cell_type": "code",
   "execution_count": 15,
   "metadata": {
    "collapsed": true
   },
   "outputs": [],
   "source": [
    "def fib(n):\n",
    "    ''' Return the first n digits of the Fibonacci sequence '''\n",
    "    seq = [1,1]\n",
    "    while len(seq) < n:\n",
    "        seq.append(seq[-1] + seq[-2])\n",
    "    return seq"
   ]
  },
  {
   "cell_type": "code",
   "execution_count": 16,
   "metadata": {
    "collapsed": false
   },
   "outputs": [
    {
     "data": {
      "text/plain": [
       "[1, 1, 2, 3, 5, 8, 13, 21, 34, 55]"
      ]
     },
     "execution_count": 16,
     "metadata": {},
     "output_type": "execute_result"
    }
   ],
   "source": [
    "fib(10)"
   ]
  },
  {
   "cell_type": "code",
   "execution_count": 17,
   "metadata": {
    "collapsed": false
   },
   "outputs": [],
   "source": [
    "assert fib(10)[-1] == 55"
   ]
  },
  {
   "cell_type": "markdown",
   "metadata": {},
   "source": [
    "**Bonus**: Design a function that creates a simple \"graph\" of the Fibonacci sequence\n",
    "\n",
    "e.g.\n",
    "```\n",
    "#\n",
    "#\n",
    "##\n",
    "###\n",
    "#####\n",
    "########\n",
    "#############\n",
    "```\n",
    "\n",
    "_Hint_: What happens if you multiply a `string`?"
   ]
  },
  {
   "cell_type": "code",
   "execution_count": 18,
   "metadata": {
    "collapsed": false
   },
   "outputs": [],
   "source": [
    "def fib_graph(n):\n",
    "    ''' Draw a graph of the first n digits of the Fibonacci sequence '''\n",
    "    seq = fib(n)\n",
    "    for i in seq:\n",
    "        print('#' * i)"
   ]
  },
  {
   "cell_type": "code",
   "execution_count": 19,
   "metadata": {
    "collapsed": false
   },
   "outputs": [
    {
     "name": "stdout",
     "output_type": "stream",
     "text": [
      "#\n",
      "#\n",
      "##\n",
      "###\n",
      "#####\n",
      "########\n",
      "#############\n",
      "#####################\n",
      "##################################\n",
      "#######################################################\n"
     ]
    }
   ],
   "source": [
    "fib_graph(10)"
   ]
  },
  {
   "cell_type": "code",
   "execution_count": 20,
   "metadata": {
    "collapsed": false
   },
   "outputs": [
    {
     "name": "stdout",
     "output_type": "stream",
     "text": [
      "#\n",
      "#\n",
      "##\n",
      "###\n",
      "#####\n",
      "########\n",
      "#############\n",
      "#####################\n",
      "##################################\n",
      "#######################################################\n"
     ]
    }
   ],
   "source": [
    "def alt_fib_graph(n):\n",
    "    ''' Draw a graph of the first n digits of the Fibonacci sequence '''\n",
    "    seq = fib(n)\n",
    "    return '\\n'.join([''.join(['#' for i in range(x)]) for x in seq])\n",
    "print(alt_fib_graph(10))"
   ]
  },
  {
   "cell_type": "markdown",
   "metadata": {},
   "source": [
    "__Super Bonus__: Can you create a Fibonacci [`class`](https://docs.python.org/3/tutorial/classes.html) which calculates the sequence of order `n`, stores it, and can print it as a graph?"
   ]
  },
  {
   "cell_type": "code",
   "execution_count": 21,
   "metadata": {
    "collapsed": true
   },
   "outputs": [],
   "source": [
    "class Fibonacci():\n",
    "    ''' Creates the Fibonacci sequence of order n, both storing it and making graphs of it '''\n",
    "\n",
    "    def __init__(self, n, graph_it=False):\n",
    "        ''' Initialize the sequence by storing n, and then calculating the sequence '''\n",
    "        self.n = n\n",
    "        self.calculate()\n",
    "        if graph_it:\n",
    "            self.graph()\n",
    "        \n",
    "    def calculate(self):\n",
    "        ''' Calculate the Fibonacci sequence of order n and store it in self.seq '''\n",
    "        seq = [1,1]\n",
    "        while len(seq) < self.n:\n",
    "            seq.append(seq[-1] + seq[-2])\n",
    "        self.seq = seq\n",
    "        \n",
    "    def graph(self):\n",
    "        ''' Print a graph of the Fibonacci sequence '''\n",
    "        for i in self.seq:\n",
    "            print('#' * i)"
   ]
  },
  {
   "cell_type": "code",
   "execution_count": 22,
   "metadata": {
    "collapsed": true
   },
   "outputs": [],
   "source": [
    "fib11 = Fibonacci(11)"
   ]
  },
  {
   "cell_type": "code",
   "execution_count": 23,
   "metadata": {
    "collapsed": false
   },
   "outputs": [
    {
     "data": {
      "text/plain": [
       "[1, 1, 2, 3, 5, 8, 13, 21, 34, 55, 89]"
      ]
     },
     "execution_count": 23,
     "metadata": {},
     "output_type": "execute_result"
    }
   ],
   "source": [
    "fib11.seq"
   ]
  },
  {
   "cell_type": "code",
   "execution_count": 24,
   "metadata": {
    "collapsed": false
   },
   "outputs": [
    {
     "name": "stdout",
     "output_type": "stream",
     "text": [
      "#\n",
      "#\n",
      "##\n",
      "###\n",
      "#####\n",
      "########\n",
      "#############\n",
      "#####################\n",
      "##################################\n",
      "#######################################################\n",
      "#########################################################################################\n"
     ]
    }
   ],
   "source": [
    "fib11.graph()"
   ]
  },
  {
   "cell_type": "code",
   "execution_count": 25,
   "metadata": {
    "collapsed": false
   },
   "outputs": [
    {
     "name": "stdout",
     "output_type": "stream",
     "text": [
      "#\n",
      "#\n",
      "##\n",
      "###\n",
      "#####\n",
      "########\n",
      "#############\n",
      "#####################\n"
     ]
    }
   ],
   "source": [
    "fib8 = Fibonacci(8, graph_it=True)"
   ]
  }
 ],
 "metadata": {
  "anaconda-cloud": {},
  "kernelspec": {
   "display_name": "Python [conda root]",
   "language": "python",
   "name": "conda-root-py"
  },
  "language_info": {
   "codemirror_mode": {
    "name": "ipython",
    "version": 3
   },
   "file_extension": ".py",
   "mimetype": "text/x-python",
   "name": "python",
   "nbconvert_exporter": "python",
   "pygments_lexer": "ipython3",
   "version": "3.5.2"
  }
 },
 "nbformat": 4,
 "nbformat_minor": 1
}
