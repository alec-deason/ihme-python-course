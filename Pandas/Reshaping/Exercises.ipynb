{
 "cells": [
  {
   "cell_type": "code",
   "execution_count": null,
   "metadata": {
    "collapsed": true
   },
   "outputs": [],
   "source": [
    "import pandas as pd\n",
    "import numpy as np"
   ]
  },
  {
   "cell_type": "code",
   "execution_count": null,
   "metadata": {
    "collapsed": true
   },
   "outputs": [],
   "source": [
    "def deaths_and_death_rates_and_pops():  \n",
    "    \"\"\"\n",
    "    Returns number of deaths for all locations, ages, sexes, and years,\n",
    "    along with mort_rate and population.\n",
    "    \n",
    "    number of deaths = mortality_rate * population\n",
    "    \n",
    "    The two files are provided, but they have different formats, and\n",
    "    mortality is in log rate space. Use jupyter to explore the data \n",
    "    within each file and how you can reshape the files and compute \n",
    "    number of deaths.\n",
    "    \n",
    "    Make sure you convert the log mortality rates into mortality rates!\n",
    "    \n",
    "    Return:\n",
    "        pd.DataFrame: a dataframe with columns location_id, sex_id,\n",
    "            year_id, age_group_id, mort_rate, population, and num_deaths;\n",
    "            and a simple index (just 0 to N).\n",
    "    \"\"\"\n",
    "    mort_file = \"mort.csv\"\n",
    "    pop_file = \"pop.hdf\"\n",
    "    \n",
    "    raise NotImplementedError(\"Implement me please.\")"
   ]
  },
  {
   "cell_type": "code",
   "execution_count": null,
   "metadata": {},
   "outputs": [],
   "source": [
    "def test_deaths_and_death_rates_and_pops():\n",
    "    res = deaths_and_death_rates_and_pops()\n",
    "    assert set(res.columns) == set([\n",
    "        \"location_id\", \"sex_id\", \"year_id\", \"age_group_id\", \n",
    "        \"mort_rate\", \"population\", \"num_deaths\"]), \"Missing columns.\"\n",
    "    \n",
    "    assert len(res) == 51480, len(res)\n",
    "    \n",
    "    one_set_of_vals = res.query(\n",
    "            \"location_id == 34 \"\n",
    "            \"and age_group_id == 19 \"\n",
    "            \"and sex_id == 2 \"\n",
    "            \"and year_id == 2009\"\n",
    "        )[[\"mort_rate\", \"population\", \"num_deaths\"]].values\n",
    "    \n",
    "    expected_vals = [0.045623, 112054.0, 5112.225765]\n",
    "    \n",
    "    assert np.isclose(one_set_of_vals, expected_vals).all()\n",
    "\n",
    "test_deaths_and_death_rates_and_pops()"
   ]
  },
  {
   "cell_type": "code",
   "execution_count": null,
   "metadata": {
    "collapsed": true
   },
   "outputs": [],
   "source": []
  }
 ],
 "metadata": {
  "kernelspec": {
   "display_name": "Python 3",
   "language": "python",
   "name": "python3"
  },
  "language_info": {
   "codemirror_mode": {
    "name": "ipython",
    "version": 3
   },
   "file_extension": ".py",
   "mimetype": "text/x-python",
   "name": "python",
   "nbconvert_exporter": "python",
   "pygments_lexer": "ipython3",
   "version": "3.6.2"
  }
 },
 "nbformat": 4,
 "nbformat_minor": 2
}
