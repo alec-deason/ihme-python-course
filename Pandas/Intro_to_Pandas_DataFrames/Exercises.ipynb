{
 "cells": [
  {
   "cell_type": "code",
   "execution_count": null,
   "metadata": {
    "collapsed": true
   },
   "outputs": [],
   "source": [
    "import numpy as np\n",
    "import pandas as pd"
   ]
  },
  {
   "cell_type": "code",
   "execution_count": null,
   "metadata": {
    "collapsed": true
   },
   "outputs": [],
   "source": [
    "# Challenge Exercise\n",
    "\n",
    "def male_deaths_in_big_locations():\n",
    "    \"\"\"\n",
    "    For 2010, return a dictionary mapping location_id to total \n",
    "    number of male deaths for locations with populations greater \n",
    "    than the population of the united states.\n",
    "    \n",
    "    Things you need to know:\n",
    "    * males is sex_id 1.\n",
    "    * united states is location_id 102.\n",
    "    * death numbers = mort_rate * population\n",
    "    \n",
    "    The data set is provided within the function.\n",
    "\n",
    "    Return:\n",
    "        dict[int:int]: a mapping from location_id to male death \n",
    "            counts for location_ids with populations greater \n",
    "            than the US population.\n",
    "    \"\"\"\n",
    "    data = pd.read_csv(\"../data.csv\")\n",
    "    \n",
    "    return data"
   ]
  },
  {
   "cell_type": "code",
   "execution_count": null,
   "metadata": {},
   "outputs": [],
   "source": [
    "def test_male_deaths_in_big_locations():\n",
    "    res = male_deaths_in_big_locations()\n",
    "    \n",
    "    assert len(res) == 2, \"not the right size.\"\n",
    "    assert res[6] == 5484711.4546094909\n",
    "    assert res[163] == 5231218.5870856401\n",
    "    assert 102 not in res, \"I said bigger than america, not bigger than or equal to.\"\n",
    "    \n",
    "test_male_deaths_in_big_locations()"
   ]
  },
  {
   "cell_type": "code",
   "execution_count": null,
   "metadata": {
    "collapsed": true
   },
   "outputs": [],
   "source": []
  }
 ],
 "metadata": {
  "kernelspec": {
   "display_name": "Python 3",
   "language": "python",
   "name": "python3"
  },
  "language_info": {
   "codemirror_mode": {
    "name": "ipython",
    "version": 3
   },
   "file_extension": ".py",
   "mimetype": "text/x-python",
   "name": "python",
   "nbconvert_exporter": "python",
   "pygments_lexer": "ipython3",
   "version": "3.6.2"
  }
 },
 "nbformat": 4,
 "nbformat_minor": 2
}
