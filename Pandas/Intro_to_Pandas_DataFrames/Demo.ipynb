{
 "cells": [
  {
   "cell_type": "markdown",
   "metadata": {},
   "source": [
    "# Pandas DataFrames are Pandas Series on steroids\n",
    "\n",
    "Pandas DataFrames are like Pandas Series on steriods."
   ]
  },
  {
   "cell_type": "code",
   "execution_count": null,
   "metadata": {
    "collapsed": true
   },
   "outputs": [],
   "source": [
    "import pandas as pd\n",
    "import numpy as np"
   ]
  },
  {
   "cell_type": "markdown",
   "metadata": {},
   "source": [
    "# Constructing DataFrames from pd.Series"
   ]
  },
  {
   "cell_type": "code",
   "execution_count": null,
   "metadata": {
    "collapsed": true
   },
   "outputs": [],
   "source": [
    "heights = pd.Series(\n",
    "    [56, 66, 90, 22], \n",
    "    index=[\"Chris\", \"Kendrick\", \"Yao\", \"Buddy\"])\n",
    "\n",
    "weights = pd.Series(\n",
    "    [310, 134, 62, 134],\n",
    "    index=[\"Yao\", \"Kendrick\", \"Buddy\", \"Chris\"])\n",
    "\n",
    "ages = pd.Series(\n",
    "    [37, 25, 64, 77],\n",
    "    index=[\"Yao\", \"Kendrick\", \"Chris\", \"Buddy\"])"
   ]
  },
  {
   "cell_type": "code",
   "execution_count": null,
   "metadata": {},
   "outputs": [],
   "source": [
    "ages"
   ]
  },
  {
   "cell_type": "code",
   "execution_count": null,
   "metadata": {},
   "outputs": [],
   "source": [
    "pd.DataFrame([weights, heights, ages])\n",
    "# This looks weird"
   ]
  },
  {
   "cell_type": "code",
   "execution_count": null,
   "metadata": {},
   "outputs": [],
   "source": [
    "pd.DataFrame(\n",
    "    [weights, heights, ages],\n",
    "    index=[\"weight\", \"height\", \"age\"])\n",
    "# This still looks weird"
   ]
  },
  {
   "cell_type": "code",
   "execution_count": null,
   "metadata": {},
   "outputs": [],
   "source": [
    "# This is a pandas dictionary\n",
    "example_dictionary = dict(\n",
    "    one=1,\n",
    "    two=2,\n",
    "    three=3,\n",
    "    FOUR=4)\n",
    "example_dictionary"
   ]
  },
  {
   "cell_type": "code",
   "execution_count": null,
   "metadata": {},
   "outputs": [],
   "source": [
    "dataframe = pd.DataFrame(dict(\n",
    "    weight=weights,\n",
    "    height=heights,\n",
    "    age=ages))\n",
    "# This looks better\n",
    "dataframe.head()"
   ]
  },
  {
   "cell_type": "code",
   "execution_count": null,
   "metadata": {},
   "outputs": [],
   "source": [
    "dataframe.index"
   ]
  },
  {
   "cell_type": "code",
   "execution_count": null,
   "metadata": {},
   "outputs": [],
   "source": [
    "# Reseting the index!\n",
    "\n",
    "dataframe.reset_index()"
   ]
  },
  {
   "cell_type": "code",
   "execution_count": null,
   "metadata": {},
   "outputs": [],
   "source": [
    "dataframe.reset_index(drop=True)"
   ]
  },
  {
   "cell_type": "code",
   "execution_count": null,
   "metadata": {},
   "outputs": [],
   "source": [
    "# Rename columns (with a chain of operations)\n",
    "dataframe.reset_index().rename(columns={\"index\": \"name\"})"
   ]
  },
  {
   "cell_type": "code",
   "execution_count": null,
   "metadata": {},
   "outputs": [],
   "source": [
    "# Sorting!\n",
    "dataframe.sort_values(\"weight\", ascending=False)\n",
    "\n",
    "# How about an alphabet sort on different columns?"
   ]
  },
  {
   "cell_type": "code",
   "execution_count": null,
   "metadata": {},
   "outputs": [],
   "source": [
    "dataframe.sort_values([\"weight\", \"height\"], ascending=False)"
   ]
  },
  {
   "cell_type": "markdown",
   "metadata": {},
   "source": [
    "# A More Realistic Scenario"
   ]
  },
  {
   "cell_type": "markdown",
   "metadata": {},
   "source": [
    "## Reading a CSV:"
   ]
  },
  {
   "cell_type": "code",
   "execution_count": null,
   "metadata": {
    "collapsed": true
   },
   "outputs": [],
   "source": [
    "all_cause_mort = pd.read_csv(\"../data.csv\")"
   ]
  },
  {
   "cell_type": "markdown",
   "metadata": {},
   "source": [
    "## Initial exploration:"
   ]
  },
  {
   "cell_type": "code",
   "execution_count": null,
   "metadata": {},
   "outputs": [],
   "source": [
    "all_cause_mort.head()"
   ]
  },
  {
   "cell_type": "markdown",
   "metadata": {},
   "source": [
    "## Selecting Data (columns)"
   ]
  },
  {
   "cell_type": "code",
   "execution_count": null,
   "metadata": {},
   "outputs": [],
   "source": [
    "all_cause_mort[\"mort_rate\"].head()  # returns a series"
   ]
  },
  {
   "cell_type": "code",
   "execution_count": null,
   "metadata": {},
   "outputs": [],
   "source": [
    "all_cause_mort[[\"mort_rate\"]].head()  # returns a dataframe"
   ]
  },
  {
   "cell_type": "code",
   "execution_count": null,
   "metadata": {},
   "outputs": [],
   "source": [
    "all_cause_mort[\"location_id\", \"population\"]  # This is broken"
   ]
  },
  {
   "cell_type": "code",
   "execution_count": null,
   "metadata": {},
   "outputs": [],
   "source": [
    "# returns a dataframe\n",
    "all_cause_mort[[\"location_id\", \"population\"]].head() "
   ]
  },
  {
   "cell_type": "markdown",
   "metadata": {},
   "source": [
    "### DO NOT DO THIS\n",
    "You can access a column of a dataframe as a series by simply using\n",
    "dataframe.column_name, but this is a **bad practice**. \n",
    "\n",
    "Why: a common column name is ``mean``, but dataframe.mean is a function that computes means."
   ]
  },
  {
   "cell_type": "code",
   "execution_count": null,
   "metadata": {},
   "outputs": [],
   "source": [
    "all_cause_mort.location_id.head()  # returns a series, but don't do this."
   ]
  },
  {
   "cell_type": "markdown",
   "metadata": {},
   "source": [
    "## Selecting Data (rows)\n",
    "For now, we'll just show you a simple way."
   ]
  },
  {
   "cell_type": "code",
   "execution_count": null,
   "metadata": {},
   "outputs": [],
   "source": [
    "# This is using python string continuation.\n",
    "all_cause_mort.query(\n",
    "    \"age_group_id == 2 and location_id == 6 \"\n",
    "    \"and sex_id == 2 and year_id > 2005\"\n",
    "    ).head()\n",
    "\n",
    "# This returns a dataframe object!"
   ]
  },
  {
   "cell_type": "code",
   "execution_count": null,
   "metadata": {},
   "outputs": [],
   "source": [
    "# Demo of string line continuation...\n",
    "print(\"hello\"\n",
    "     \"world\"\n",
    "     \"    \"\n",
    "     \"yeah \\n\"\n",
    "     \"cool\\tbeans\\n\\n\")\n",
    "\n",
    "print(\"hello\",\n",
    "     \"world\",\n",
    "     \"    \",\n",
    "     \"yeah \\n\",\n",
    "     \"cool\\tbeans\\n\\n\")\n",
    "\n",
    "print((\"hello\",\n",
    "     \"world\",\n",
    "     \"    \",\n",
    "     \"yeah \\n\",\n",
    "     \"cool\\tbeans\\n\\n\"))"
   ]
  },
  {
   "cell_type": "code",
   "execution_count": null,
   "metadata": {},
   "outputs": [],
   "source": [
    "# Querying with a defined variable\n",
    "best_location_id = 102\n",
    "my_favorite_years = range(1995, 2000)\n",
    "all_cause_mort.query(\n",
    "    \"location_id == @best_location_id \"\n",
    "    \"and year_id in @my_favorite_years\"\n",
    "    ).head()"
   ]
  },
  {
   "cell_type": "markdown",
   "metadata": {},
   "source": [
    "## Adding new data (columns)"
   ]
  },
  {
   "cell_type": "code",
   "execution_count": null,
   "metadata": {},
   "outputs": [],
   "source": [
    "all_cause_mort[\"mort_count\"] = (\n",
    "    all_cause_mort[\"mort_rate\"] \n",
    "    * all_cause_mort[\"population\"]\n",
    "    )\n",
    "print(all_cause_mort[\"mort_count\"].max())\n",
    "print(all_cause_mort[\"mort_count\"].sum())"
   ]
  },
  {
   "cell_type": "code",
   "execution_count": null,
   "metadata": {
    "collapsed": true
   },
   "outputs": [],
   "source": []
  },
  {
   "cell_type": "code",
   "execution_count": null,
   "metadata": {
    "collapsed": true
   },
   "outputs": [],
   "source": []
  },
  {
   "cell_type": "code",
   "execution_count": null,
   "metadata": {
    "collapsed": true
   },
   "outputs": [],
   "source": []
  },
  {
   "cell_type": "code",
   "execution_count": null,
   "metadata": {
    "collapsed": true
   },
   "outputs": [],
   "source": []
  },
  {
   "cell_type": "code",
   "execution_count": null,
   "metadata": {
    "collapsed": true
   },
   "outputs": [],
   "source": []
  },
  {
   "cell_type": "code",
   "execution_count": null,
   "metadata": {
    "collapsed": true
   },
   "outputs": [],
   "source": []
  },
  {
   "cell_type": "code",
   "execution_count": null,
   "metadata": {
    "collapsed": true
   },
   "outputs": [],
   "source": []
  },
  {
   "cell_type": "code",
   "execution_count": null,
   "metadata": {
    "collapsed": true
   },
   "outputs": [],
   "source": []
  },
  {
   "cell_type": "markdown",
   "metadata": {},
   "source": [
    "# SOLUTIONS"
   ]
  },
  {
   "cell_type": "code",
   "execution_count": null,
   "metadata": {
    "collapsed": true
   },
   "outputs": [],
   "source": [
    "def high_death_rates_in_small_locations():\n",
    "    \"\"\"\n",
    "    Return the top 10% in mortality rate of the lowest\n",
    "    10% in population for females in year 2016 and age\n",
    "    group 10.    \n",
    "    \"\"\"\n",
    "    data = pd.read_csv(\"../data.csv\")\n",
    "    \n",
    "    data_2016 = data.query(\n",
    "        \"year_id == 2016 and age_group_id == 10 \"\n",
    "        \"and sex_id == 2\")\n",
    "    pop_cutoff = data_2016.quantile(.10)[\"population\"]\n",
    "    small_loc_data = data_2016.query(\"population <= @pop_cutoff\")\n",
    "    mort_cutoff = small_loc_data.quantile(.10)[\"mort_rate\"]\n",
    "    high_mort_data = small_loc_data.query(\"mort_rate <= @mort_cutoff\")\n",
    "    \n",
    "    return sorted(high_mort_data[\"mort_rate\"])"
   ]
  },
  {
   "cell_type": "code",
   "execution_count": null,
   "metadata": {},
   "outputs": [],
   "source": [
    "high_death_rates_in_small_locations()"
   ]
  },
  {
   "cell_type": "code",
   "execution_count": null,
   "metadata": {
    "collapsed": true
   },
   "outputs": [],
   "source": [
    "# Exercise\n",
    "def male_deaths_in_big_locations():\n",
    "    \"\"\"\n",
    "    For 2010, return a dictionary mapping location_id to total \n",
    "    number of male deaths for locations with populations greater than\n",
    "    the population of the united states.\n",
    "    \n",
    "    Things you need to know:\n",
    "    * males is sex_id 1.\n",
    "    * united states is location_id 102.\n",
    "    * death numbers = mort_rate * population\n",
    "    \n",
    "    The data set is provided within the function.\n",
    "\n",
    "    Return:\n",
    "        dict[int: int]\n",
    "    \n",
    "    \"\"\"\n",
    "    data = pd.read_csv(\"../data.csv\")\n",
    "    \n",
    "    male_data_2010 = data.query(\n",
    "        \"year_id == 2010 and sex_id == 1\")\n",
    "    male_data_2010[\"mort_count\"] = (\n",
    "        male_data_2010[\"mort_rate\"]\n",
    "        * male_data_2010[\"population\"]\n",
    "        )\n",
    "    us_pop = get_pop(male_data_2010, 102)\n",
    "    \n",
    "    locations = male_data_2010[\"location_id\"].unique()\n",
    "    result = {}\n",
    "    for location_id in locations:\n",
    "        pop = get_pop(male_data_2010, location_id)\n",
    "        if pop > us_pop:\n",
    "            result[location_id] = get_mort_count(\n",
    "                male_data_2010, location_id)\n",
    "        else:\n",
    "            pass\n",
    "    return result\n",
    "    \n",
    "    \n",
    "def get_pop(male_data_2010, location_id):\n",
    "    pop = male_data_2010.query(\n",
    "            \"location_id == @location_id\"\n",
    "        ).sum()[\"population\"]\n",
    "    return pop\n",
    "\n",
    "    \n",
    "def get_mort_count(male_data_2010, location_id):\n",
    "    mort_count = male_data_2010.query(\n",
    "            \"location_id == @location_id\"\n",
    "        ).sum()[\"mort_count\"]\n",
    "    return mort_count"
   ]
  },
  {
   "cell_type": "code",
   "execution_count": null,
   "metadata": {},
   "outputs": [],
   "source": [
    "def test_male_deaths_in_big_locations():\n",
    "    res = male_deaths_in_big_locations()\n",
    "    \n",
    "    assert len(res) == 2, \"not the right size.\"\n",
    "    assert res[6] == 5484711.4546094909\n",
    "    assert res[163] == 5231218.5870856401\n",
    "    assert 102 not in res, \"I said bigger than america, not bigger than or equal to.\"\n",
    "    \n",
    "test_male_deaths_in_big_locations()"
   ]
  },
  {
   "cell_type": "code",
   "execution_count": null,
   "metadata": {
    "collapsed": true
   },
   "outputs": [],
   "source": []
  }
 ],
 "metadata": {
  "kernelspec": {
   "display_name": "Python 3",
   "language": "python",
   "name": "python3"
  },
  "language_info": {
   "codemirror_mode": {
    "name": "ipython",
    "version": 3
   },
   "file_extension": ".py",
   "mimetype": "text/x-python",
   "name": "python",
   "nbconvert_exporter": "python",
   "pygments_lexer": "ipython3",
   "version": "3.6.2"
  }
 },
 "nbformat": 4,
 "nbformat_minor": 2
}
