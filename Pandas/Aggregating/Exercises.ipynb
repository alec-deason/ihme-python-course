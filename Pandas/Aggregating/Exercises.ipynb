{
 "cells": [
  {
   "cell_type": "code",
   "execution_count": null,
   "metadata": {
    "collapsed": true
   },
   "outputs": [],
   "source": [
    "import pandas as pd\n",
    "import numpy as np"
   ]
  },
  {
   "cell_type": "code",
   "execution_count": null,
   "metadata": {
    "collapsed": true
   },
   "outputs": [],
   "source": [
    "def big_aggregate():\n",
    "    \"\"\"Return the all cause global all-age both-sex draw level death counts.\n",
    "    \n",
    "    You're given three files containing the log mortality rates for _ncd, _comm,\n",
    "    and _inj causes. These files contain the data for:\n",
    "        * region-level locations\n",
    "        * non-aggregate age groups\n",
    "        * male and females\n",
    "        * gbd years\n",
    "        \n",
    "    The data provided contains draws.\n",
    "    \n",
    "    Return the draw-level death counts for the all-cause global all-age \n",
    "    both-sex aggregate for gbd years.\n",
    "    \n",
    "    Return:\n",
    "        pd.DataFrame: dataframe containing the big aggregate.\n",
    "    \"\"\"\n",
    "\n",
    "    # FILE NAMES! Don't change these.\n",
    "    injury_file = \"07_inj.csv\"\n",
    "    communicable_file = \"07_comm.csv\"\n",
    "    ncd_file = \"07_ncd.csv\"\n",
    "    pop_file = \"07_pop.csv\"\n",
    "\n",
    "    raise NotImplementedError(\"This is the last one!\")"
   ]
  },
  {
   "cell_type": "code",
   "execution_count": null,
   "metadata": {},
   "outputs": [],
   "source": [
    "def test_big_aggregate():\n",
    "    res = big_aggregate()\n",
    "    \n",
    "    expected = pd.read_csv(\"07_expected.csv\").set_index(\"year_id\")\n",
    "    assert np.isclose(res, expected).all().all()\n",
    "    \n",
    "test_big_aggregate()"
   ]
  }
 ],
 "metadata": {
  "kernelspec": {
   "display_name": "Python 3",
   "language": "python",
   "name": "python3"
  },
  "language_info": {
   "codemirror_mode": {
    "name": "ipython",
    "version": 3
   },
   "file_extension": ".py",
   "mimetype": "text/x-python",
   "name": "python",
   "nbconvert_exporter": "python",
   "pygments_lexer": "ipython3",
   "version": "3.6.2"
  }
 },
 "nbformat": 4,
 "nbformat_minor": 2
}
