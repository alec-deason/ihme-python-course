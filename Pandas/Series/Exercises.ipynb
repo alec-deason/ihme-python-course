{
 "cells": [
  {
   "cell_type": "code",
   "execution_count": null,
   "metadata": {
    "collapsed": true
   },
   "outputs": [],
   "source": [
    "# DO NOT MODIFY THIS STUFF\n",
    "\n",
    "from pandas import Series\n",
    "\n",
    "CONST_A = Series(\n",
    "    [1, 2, 3, 4, 5, 6, 7], \n",
    "    index=[\"North America\", \n",
    "           \"South America\", \n",
    "           \"Europe\",\n",
    "           \"Africa\",\n",
    "           \"Asia\", \n",
    "           \"Australia\",\n",
    "           \"Antarctica\",\n",
    "           ])\n",
    "\n",
    "CONST_B = Series(\n",
    "    [1, 2, 3, 4, 5, 6, 7], \n",
    "    index=[\"North America\", \n",
    "           \"South America\", \n",
    "           \"Asia\", \n",
    "           \"Australia\",\n",
    "           \"Antarctica\",\n",
    "           \"Europe\",\n",
    "           \"Africa\",\n",
    "           ])\n",
    "\n",
    "CONST_C = Series(\n",
    "    [3, 2, 1, 5, 4], \n",
    "    index=[\"North America\",\n",
    "           \"Australia\",\n",
    "           \"Antarctica\",\n",
    "           \"Europe\",\n",
    "           \"Africa\",\n",
    "           ])\n",
    "\n",
    "CONST_D = Series(\n",
    "    [100, 200, 9.99, 9.999, 1.2],\n",
    "    index=[\"North America\",\n",
    "           \"North America\",\n",
    "           \"North America\",\n",
    "           \"North America\",\n",
    "           \"North America\",\n",
    "           ])\n",
    "\n",
    "CONST_E = Series(\n",
    "    [100, 200, 9.99, 9.999, 1.2],\n",
    "    index=[\"Asia\",\n",
    "           \"Africa\",\n",
    "           \"Africa\",\n",
    "           \"North America\",\n",
    "           \"North America\",\n",
    "           ])"
   ]
  },
  {
   "cell_type": "code",
   "execution_count": null,
   "metadata": {
    "collapsed": true
   },
   "outputs": [],
   "source": [
    "def multiply_and_then_add(series_a, series_b):\n",
    "    \"\"\"Multiple two different series objects together, and the compute the sum.\n",
    "    \n",
    "    This is a dot product.\n",
    "    \n",
    "    The series objects will all have continent names for index\n",
    "    values (see examples above), and will have numerical values.\n",
    "    \n",
    "    Where missing values are filled with 0    \n",
    "    \n",
    "    Example:\n",
    "    >>> data = [33, 52, 12]\n",
    "    >>> weights = [0.3, 0.6, 0.1]\n",
    "    >>> index = [\"x\", \"y\", \"z\"]\n",
    "    >>> values = pd.Series(data, index=index)\n",
    "    >>> weights = pd.Series(weight_vals, index=index)\n",
    "    >>> multiply_and_then_add(values, weights)\n",
    "    42.3\n",
    "    \n",
    "    Args:\n",
    "        series_a (pd.Series): a pandas series object.\n",
    "        series_b (pd.Series): also a pandas series object.\n",
    "        \n",
    "    Return:\n",
    "        float: the dot product of series_a and series_b.\n",
    "    \"\"\"\n",
    "    return 99999999"
   ]
  },
  {
   "cell_type": "code",
   "execution_count": null,
   "metadata": {},
   "outputs": [],
   "source": [
    "def test_multiply_and_then_add():\n",
    "    \"\"\"Tests the multiple_and_then_add function.\n",
    "    \n",
    "    If test fails, the result of multiple_and_then_add \n",
    "    is printed.\n",
    "    \"\"\"\n",
    "    res = multiply_and_then_add(CONST_A, CONST_B)\n",
    "    assert res == 125, res\n",
    "    \n",
    "    res = multiply_and_then_add(CONST_B, CONST_A)\n",
    "    assert res == 125, res\n",
    "    \n",
    "    res = multiply_and_then_add(CONST_A, CONST_C)\n",
    "    assert res == 53, res\n",
    "    \n",
    "test_multiply_and_then_add()"
   ]
  },
  {
   "cell_type": "markdown",
   "metadata": {},
   "source": [
    "# Question\n",
    "What happens with Series that have duplicated values\n",
    "in their indexes? (E.g. CONST_D and CONST_E)\n",
    "\n",
    "Hint: bad things happen"
   ]
  },
  {
   "cell_type": "code",
   "execution_count": null,
   "metadata": {},
   "outputs": [],
   "source": [
    "# Explore here\n",
    "CONST_D"
   ]
  },
  {
   "cell_type": "code",
   "execution_count": null,
   "metadata": {
    "collapsed": true
   },
   "outputs": [],
   "source": []
  }
 ],
 "metadata": {
  "kernelspec": {
   "display_name": "Python 3",
   "language": "python",
   "name": "python3"
  },
  "language_info": {
   "codemirror_mode": {
    "name": "ipython",
    "version": 3
   },
   "file_extension": ".py",
   "mimetype": "text/x-python",
   "name": "python",
   "nbconvert_exporter": "python",
   "pygments_lexer": "ipython3",
   "version": "3.6.2"
  }
 },
 "nbformat": 4,
 "nbformat_minor": 2
}
