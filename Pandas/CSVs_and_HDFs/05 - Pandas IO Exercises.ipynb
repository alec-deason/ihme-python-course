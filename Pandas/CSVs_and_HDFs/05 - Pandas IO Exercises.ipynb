{
 "cells": [
  {
   "cell_type": "code",
   "execution_count": null,
   "metadata": {
    "collapsed": true
   },
   "outputs": [],
   "source": [
    "# DO NOT CHANGE THIS STUFF\n",
    "import math\n",
    "\n",
    "import pandas as pd\n",
    "import numpy as np\n",
    "\n",
    "EPSILON = 1e-4\n",
    "\n",
    "HDF_FILE_1 = \"05_forecast_1.hdf\"\n",
    "HDF_FILE_2 = \"05_forecast_2.hdf\"\n",
    "CSV_FILE_1 = \"05_observed_1.csv\"\n",
    "CSV_FILE_2 = \"05_observed_2.hdf\"  # file extensions do not matter."
   ]
  },
  {
   "cell_type": "code",
   "execution_count": null,
   "metadata": {
    "collapsed": true
   },
   "outputs": [],
   "source": [
    "def RMSE(hdf_file, csv_file):\n",
    "    \"\"\"Compute the RMSE of two timeseries stored in different formats.\n",
    "    \n",
    "    There is a model which writes its output as a HDF,\n",
    "    and the observed data is saved as a CSV. Compute \n",
    "    the root mean squared error (RMSE) of the model \n",
    "    compared to the observed data.\n",
    "    \n",
    "    RMSE equation in LaTeX:\n",
    "        \\sqrt{[\\sum_{i} (y_i - yhat_i) ^ 2] / 2}\n",
    "        \n",
    "    I'll write this on the board if someone needs it.\n",
    "    \n",
    "    The data looks something like this, but use Jupyter\n",
    "    to explore the different files and their formats.\n",
    "    \n",
    "         date    foot    person    val\n",
    "    0    1       L       1         0.356222\n",
    "    1    1       L       2         0.395130\n",
    "    2    1       L       3         0.180450\n",
    "    3    2       L       1         0.192698\n",
    "    4    2       L       2         0.363159\n",
    "    \n",
    "    Args:\n",
    "        hdf_file: predicted data in an hdf file.\n",
    "        csv_file: observed data in a csv file.\n",
    "    Returns:\n",
    "        float: the RMSE.\n",
    "    \"\"\"   \n",
    "    \n",
    "    raise NotImplementedError(\"You should probably implement this.\")"
   ]
  },
  {
   "cell_type": "code",
   "execution_count": null,
   "metadata": {},
   "outputs": [],
   "source": [
    "# Run this to test your code.\n",
    "\n",
    "def test_RMSE():\n",
    "    res = RMSE(HDF_FILE_1, CSV_FILE_1)\n",
    "    assert math.fabs(res - 0.416369) < EPSILON, res\n",
    "    \n",
    "    res = RMSE(HDF_FILE_2, CSV_FILE_1)\n",
    "    assert math.fabs(res - 0.416369) < EPSILON, res \n",
    "    \n",
    "    res = RMSE(HDF_FILE_1, CSV_FILE_2)\n",
    "    assert math.fabs(res - 0.970608) < EPSILON, res\n",
    "    \n",
    "    res = RMSE(HDF_FILE_2, CSV_FILE_2)\n",
    "    assert math.fabs(res - 0.970608) < EPSILON, res\n",
    "\n",
    "test_RMSE()"
   ]
  },
  {
   "cell_type": "code",
   "execution_count": null,
   "metadata": {
    "collapsed": true
   },
   "outputs": [],
   "source": []
  }
 ],
 "metadata": {
  "kernelspec": {
   "display_name": "Python 3",
   "language": "python",
   "name": "python3"
  },
  "language_info": {
   "codemirror_mode": {
    "name": "ipython",
    "version": 3
   },
   "file_extension": ".py",
   "mimetype": "text/x-python",
   "name": "python",
   "nbconvert_exporter": "python",
   "pygments_lexer": "ipython3",
   "version": "3.6.2"
  }
 },
 "nbformat": 4,
 "nbformat_minor": 2
}
