{
 "cells": [
  {
   "cell_type": "code",
   "execution_count": null,
   "metadata": {
    "collapsed": true
   },
   "outputs": [],
   "source": [
    "import pandas as pd\n",
    "import numpy as np"
   ]
  },
  {
   "cell_type": "code",
   "execution_count": null,
   "metadata": {
    "collapsed": true
   },
   "outputs": [],
   "source": [
    "def update_no_return(data):\n",
    "    \"\"\"This exercise is a little more academic than practical.\n",
    "    \n",
    "    Data will have a ``value`` column, a ``location_id`` column,\n",
    "    and some other columns (maybe? doesn't really matter.)\n",
    "    \n",
    "    Take ``data`` and change ``value`` for location_id 6 to 100.\n",
    "    \n",
    "    I want the data that is passed in to change outside\n",
    "    of the function.\n",
    "    \n",
    "    Params:\n",
    "        data (pandas.DataFrame): some data with a location_id column.\n",
    "    \"\"\"\n",
    "    pass"
   ]
  },
  {
   "cell_type": "code",
   "execution_count": null,
   "metadata": {},
   "outputs": [],
   "source": [
    "def test_update_no_return():\n",
    "    \n",
    "    input_data = pd.DataFrame({\n",
    "        \"location_id\": [6, 100, 6, 6, 100, 1],\n",
    "        \"value\": [10, 12, 9913, 120312, 8932471.12, 1],\n",
    "        \"other_junk\": True,\n",
    "    })\n",
    "    update_no_return(input_data)\n",
    "    assert (input_data.query(\"location_id == 6\")[\"value\"].unique() == [100]).all(), \"didn't update original values\"\n",
    "    assert 100 not in input_data.query(\"location_id != 6\")[\"value\"].unique(), \"updated too many values\"\n",
    "    \n",
    "test_update_no_return()"
   ]
  }
 ],
 "metadata": {
  "kernelspec": {
   "display_name": "Python 3",
   "language": "python",
   "name": "python3"
  },
  "language_info": {
   "codemirror_mode": {
    "name": "ipython",
    "version": 3
   },
   "file_extension": ".py",
   "mimetype": "text/x-python",
   "name": "python",
   "nbconvert_exporter": "python",
   "pygments_lexer": "ipython3",
   "version": "3.6.2"
  }
 },
 "nbformat": 4,
 "nbformat_minor": 2
}
