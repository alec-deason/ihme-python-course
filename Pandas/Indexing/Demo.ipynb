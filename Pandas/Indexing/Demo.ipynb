{
 "cells": [
  {
   "cell_type": "markdown",
   "metadata": {
    "collapsed": true
   },
   "source": [
    "# Setting an index"
   ]
  },
  {
   "cell_type": "code",
   "execution_count": null,
   "metadata": {
    "collapsed": true
   },
   "outputs": [],
   "source": [
    "import pandas as pd\n",
    "import numpy as np  # <-- this is me being lazy."
   ]
  },
  {
   "cell_type": "code",
   "execution_count": null,
   "metadata": {},
   "outputs": [],
   "source": [
    "df = pd.read_csv(\"../data.csv\")\n",
    "df.head()"
   ]
  },
  {
   "cell_type": "code",
   "execution_count": null,
   "metadata": {},
   "outputs": [],
   "source": [
    "df_with_useless_index = df.set_index([\"location_id\"])\n",
    "df_with_useless_index.head()\n",
    "\n",
    "# Question: why is this not a useful index?"
   ]
  },
  {
   "cell_type": "code",
   "execution_count": null,
   "metadata": {
    "scrolled": true
   },
   "outputs": [],
   "source": [
    "index = [\"location_id\", \"age_group_id\", \"sex_id\", \"year_id\"]\n",
    "df_with_useful_index = df.set_index(index)\n",
    "df_with_useful_index.head()"
   ]
  },
  {
   "cell_type": "markdown",
   "metadata": {},
   "source": [
    "# Accessing data via the index\n",
    "\n",
    "Using .loc and .iloc will return ``views`` of the data. More on this later."
   ]
  },
  {
   "cell_type": "code",
   "execution_count": null,
   "metadata": {},
   "outputs": [],
   "source": [
    "df.loc[6:10]"
   ]
  },
  {
   "cell_type": "code",
   "execution_count": null,
   "metadata": {},
   "outputs": [],
   "source": [
    "df.iloc[6:10]"
   ]
  },
  {
   "cell_type": "code",
   "execution_count": null,
   "metadata": {},
   "outputs": [],
   "source": [
    "df.loc[6:10, \"mort_rate\"]"
   ]
  },
  {
   "cell_type": "code",
   "execution_count": null,
   "metadata": {},
   "outputs": [],
   "source": [
    "df.iloc[6:10, 4]"
   ]
  },
  {
   "cell_type": "code",
   "execution_count": null,
   "metadata": {
    "scrolled": true
   },
   "outputs": [],
   "source": [
    "df_with_useful_index.iloc[6:10]"
   ]
  },
  {
   "cell_type": "code",
   "execution_count": null,
   "metadata": {
    "collapsed": true
   },
   "outputs": [],
   "source": [
    "df_with_useful_index.loc[6:10]  # this won't work."
   ]
  },
  {
   "cell_type": "code",
   "execution_count": null,
   "metadata": {
    "collapsed": true
   },
   "outputs": [],
   "source": [
    "df_with_actually_useful_index = df.set_index(index).sort_index()\n",
    "df_with_actually_useful_index.loc[6:10]\n",
    "\n",
    "# Question: what was returned by this loc[] operation?"
   ]
  },
  {
   "cell_type": "code",
   "execution_count": null,
   "metadata": {},
   "outputs": [],
   "source": [
    "# Demo some various index options\n",
    "df_with_actually_useful_index.loc[6, 10:13, :, 2005]"
   ]
  },
  {
   "cell_type": "code",
   "execution_count": null,
   "metadata": {},
   "outputs": [],
   "source": [
    "# You can select a column, but only if it\n",
    "# there are _two_ arguments.\n",
    "df_with_actually_useful_index.loc[6, \"population\"].head()\n",
    "\n",
    "# df_with_useful_index.loc[6, 10, \"population\"]  # doesn't work"
   ]
  },
  {
   "cell_type": "code",
   "execution_count": null,
   "metadata": {},
   "outputs": [],
   "source": [
    "# solution: use pd.IndexSlice.\n",
    "df_with_actually_useful_index.loc[\n",
    "    pd.IndexSlice[6, 10],\n",
    "    \"population\"\n",
    "    ]\n",
    "\n",
    "# Kaloo Kalay!"
   ]
  },
  {
   "cell_type": "markdown",
   "metadata": {},
   "source": [
    "## Boolean indexing\n",
    "\n",
    "### Boolean data"
   ]
  },
  {
   "cell_type": "code",
   "execution_count": null,
   "metadata": {
    "collapsed": true
   },
   "outputs": [],
   "source": [
    "great_value = 2\n",
    "df == great_value"
   ]
  },
  {
   "cell_type": "code",
   "execution_count": null,
   "metadata": {
    "collapsed": true
   },
   "outputs": [],
   "source": [
    "df[\"age_group_id\"] == 2"
   ]
  },
  {
   "cell_type": "code",
   "execution_count": null,
   "metadata": {
    "collapsed": true
   },
   "outputs": [],
   "source": [
    "# There are lots of built in functions\n",
    "# for Series that return boolean values.\n",
    "# Example: isin\n",
    "df[\"age_group_id\"].isin([2, 3]) "
   ]
  },
  {
   "cell_type": "markdown",
   "metadata": {},
   "source": [
    "### Indexing with the boolean series"
   ]
  },
  {
   "cell_type": "code",
   "execution_count": null,
   "metadata": {},
   "outputs": [],
   "source": [
    "boolean_index = df[\"age_group_id\"].isin([5, 10]) & df[\"year_id\"] == 2000\n",
    "df.loc[boolean_index]  # this won't work. order of operations! Throw some parentheses on it."
   ]
  },
  {
   "cell_type": "code",
   "execution_count": null,
   "metadata": {},
   "outputs": [],
   "source": [
    "# Getting a specific column\n",
    "df.loc[boolean_index, \"mort_rate\"] "
   ]
  },
  {
   "cell_type": "markdown",
   "metadata": {},
   "source": [
    "## Views and Copies?"
   ]
  },
  {
   "cell_type": "code",
   "execution_count": null,
   "metadata": {},
   "outputs": [],
   "source": [
    "# Copy:\n",
    "result = df.query(\"location_id == 6 and age_group_id == 5 and year_id > 2010\")\n",
    "print(result)\n",
    "\n",
    "result[\"mort_rate\"] = result[\"mort_rate\"] * 100\n",
    "print(result)\n",
    "\n",
    "# We even get a warning that tells us how to update the original dataframe.\n",
    "print(df.query(\"location_id == 6 and age_group_id == 5 and year_id > 2010\"))"
   ]
  },
  {
   "cell_type": "code",
   "execution_count": null,
   "metadata": {},
   "outputs": [],
   "source": [
    "# View:\n",
    "df2 = df.copy()  # this is just so this cell is idempotent.\n",
    "\n",
    "the_index = (\n",
    "    (df2[\"location_id\"] == 6) & (df2[\"age_group_id\"] == 5) \n",
    "    & (df2[\"year_id\"] > 2010))\n",
    "print(df2.loc[the_index])\n",
    "\n",
    "df2.loc[the_index, \"mort_rate\"] = df2.loc[the_index, \"mort_rate\"] * 100\n",
    "\n",
    "print(df2.loc[the_index])"
   ]
  },
  {
   "cell_type": "code",
   "execution_count": null,
   "metadata": {
    "collapsed": true
   },
   "outputs": [],
   "source": []
  },
  {
   "cell_type": "code",
   "execution_count": null,
   "metadata": {
    "collapsed": true
   },
   "outputs": [],
   "source": []
  },
  {
   "cell_type": "code",
   "execution_count": null,
   "metadata": {
    "collapsed": true
   },
   "outputs": [],
   "source": []
  },
  {
   "cell_type": "code",
   "execution_count": null,
   "metadata": {
    "collapsed": true
   },
   "outputs": [],
   "source": []
  },
  {
   "cell_type": "code",
   "execution_count": null,
   "metadata": {
    "collapsed": true
   },
   "outputs": [],
   "source": []
  },
  {
   "cell_type": "code",
   "execution_count": null,
   "metadata": {
    "collapsed": true
   },
   "outputs": [],
   "source": []
  },
  {
   "cell_type": "code",
   "execution_count": null,
   "metadata": {
    "collapsed": true
   },
   "outputs": [],
   "source": []
  },
  {
   "cell_type": "code",
   "execution_count": null,
   "metadata": {
    "collapsed": true
   },
   "outputs": [],
   "source": []
  },
  {
   "cell_type": "markdown",
   "metadata": {},
   "source": [
    "# STOP!"
   ]
  },
  {
   "cell_type": "markdown",
   "metadata": {},
   "source": [
    "## Demoing some python function things (if we have time!)\n",
    "\n",
    "I can't explain all of this in the time we have, so I'm just going to show some things\n",
    "that are surprising.\n",
    "\n",
    "When variable's are passed in to a function, usually only one of two things happens\n",
    "when the variable is modified within the function:\n",
    "\n",
    "1. the original variable is updated\n",
    "2. the original variable is not updated\n",
    "\n",
    "```\n",
    "def add_one(var):\n",
    "    var = var + 1\n",
    "a = 10\n",
    "add_one(a)\n",
    "print(a)  # In other languages, this is 10 for (1), or 11 for (2).\n",
    "```\n",
    "\n",
    "Python is weird."
   ]
  },
  {
   "cell_type": "code",
   "execution_count": null,
   "metadata": {},
   "outputs": [],
   "source": [
    "def add_one(var):\n",
    "    var = var + 1\n",
    "    print(\"In function: {}\".format(var))\n",
    "a = 10\n",
    "add_one(a)\n",
    "print(\"Out function: {}\".format(a))"
   ]
  },
  {
   "cell_type": "code",
   "execution_count": null,
   "metadata": {},
   "outputs": [],
   "source": [
    "def append_one(list_var):\n",
    "    list_var = list_var + [1]\n",
    "    print(\"In function: {}\".format(list_var))\n",
    "b = [10, 11, 12]\n",
    "append_one(b)\n",
    "print(\"Out function: {}\".format(b))"
   ]
  },
  {
   "cell_type": "code",
   "execution_count": null,
   "metadata": {},
   "outputs": [],
   "source": [
    "def append_one(list_var):\n",
    "    list_var.append(1)\n",
    "    print(\"In function: {}\".format(list_var))\n",
    "b = [10, 11, 12]\n",
    "append_one(b)\n",
    "print(\"Out function: {}\".format(b))"
   ]
  },
  {
   "cell_type": "markdown",
   "metadata": {},
   "source": [
    "## Why am I telling you this?\n",
    "\n",
    "The exercise has to do with updating the variable in a way\n",
    "that the original variable is modified. We're doing this on\n",
    "purpose because sometimes, you want to do that.\n",
    "\n",
    "Keep in mind that sometimes (maybe more often than not),\n",
    "you **dont** want to modify the original variable. You'll\n",
    "need to be careful with python, especially when writing\n",
    "functions involving objects from pandas, numpy, or whatever\n",
    "else you may be using."
   ]
  },
  {
   "cell_type": "code",
   "execution_count": null,
   "metadata": {
    "collapsed": true
   },
   "outputs": [],
   "source": []
  },
  {
   "cell_type": "code",
   "execution_count": null,
   "metadata": {
    "collapsed": true
   },
   "outputs": [],
   "source": []
  },
  {
   "cell_type": "code",
   "execution_count": null,
   "metadata": {
    "collapsed": true
   },
   "outputs": [],
   "source": []
  },
  {
   "cell_type": "markdown",
   "metadata": {},
   "source": [
    "# STOP AGAIN!"
   ]
  },
  {
   "cell_type": "code",
   "execution_count": null,
   "metadata": {
    "collapsed": true
   },
   "outputs": [],
   "source": []
  },
  {
   "cell_type": "code",
   "execution_count": null,
   "metadata": {
    "collapsed": true
   },
   "outputs": [],
   "source": []
  },
  {
   "cell_type": "code",
   "execution_count": null,
   "metadata": {
    "collapsed": true
   },
   "outputs": [],
   "source": []
  },
  {
   "cell_type": "code",
   "execution_count": null,
   "metadata": {
    "collapsed": true
   },
   "outputs": [],
   "source": [
    "def update_no_return(data):\n",
    "    \"\"\"This exercise is a little more academic than practical.\n",
    "    \n",
    "    Data will have a ``value`` column, a ``location_id`` column,\n",
    "    and some other columns (maybe? doesn't really matter.)\n",
    "    \n",
    "    Take ``data`` and change ``value`` for location_id 6 to 100.\n",
    "    \n",
    "    I want the data that is passed in to change outside\n",
    "    of the function.\n",
    "    \n",
    "    Params:\n",
    "        data (pandas.DataFrame): some data with a location_id column.\n",
    "    \"\"\"\n",
    "    data.loc[data[\"location_id\"] == 6, \"value\"] = 100"
   ]
  },
  {
   "cell_type": "code",
   "execution_count": null,
   "metadata": {
    "collapsed": true
   },
   "outputs": [],
   "source": [
    "def test_update_no_return():\n",
    "    \n",
    "    input_data = pd.DataFrame({\n",
    "        \"location_id\": [6, 100, 6, 6, 100, 1],\n",
    "        \"value\": [10, 12, 9913, 120312, 8932471.12, 1],\n",
    "        \"other_junk\": True,\n",
    "    })\n",
    "    update_no_return(input_data)\n",
    "    assert (input_data.query(\"location_id == 6\")[\"value\"].unique() == [100]).all(), \"didn't update original values\"\n",
    "    assert 100 not in input_data.query(\"location_id != 6\")[\"value\"].unique(), \"updated too many values\"\n",
    "    \n",
    "test_update_no_return()"
   ]
  },
  {
   "cell_type": "code",
   "execution_count": null,
   "metadata": {
    "collapsed": true
   },
   "outputs": [],
   "source": []
  }
 ],
 "metadata": {
  "kernelspec": {
   "display_name": "Python 3",
   "language": "python",
   "name": "python3"
  },
  "language_info": {
   "codemirror_mode": {
    "name": "ipython",
    "version": 3
   },
   "file_extension": ".py",
   "mimetype": "text/x-python",
   "name": "python",
   "nbconvert_exporter": "python",
   "pygments_lexer": "ipython3",
   "version": "3.6.2"
  }
 },
 "nbformat": 4,
 "nbformat_minor": 2
}
